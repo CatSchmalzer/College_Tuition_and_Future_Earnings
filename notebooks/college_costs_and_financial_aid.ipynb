{
 "cells": [
  {
   "cell_type": "markdown",
   "metadata": {},
   "source": [
    "## Analysis of Tuition, Fees, Costs and Financial Aid"
   ]
  },
  {
   "cell_type": "code",
   "execution_count": 1,
   "metadata": {},
   "outputs": [],
   "source": [
    "import pandas as pd\n",
    "import numpy as np\n",
    "import matplotlib.pyplot as plt\n",
    "import seaborn as sns\n",
    "\n",
    "%matplotlib inline\n",
    "sns.set_style(\"whitegrid\")\n",
    "plt.style.use(\"fivethirtyeight\")"
   ]
  },
  {
   "cell_type": "markdown",
   "metadata": {},
   "source": [
    "## Read in tuition and financial aid data"
   ]
  },
  {
   "cell_type": "code",
   "execution_count": 2,
   "metadata": {},
   "outputs": [],
   "source": [
    "tuition_fees = pd.read_csv(\"../data/ipeds_costs_2017_18.csv\")\n",
    "finan_aid_one = pd.read_csv(\"../data/ipeds_student_finan_aid_part_one.csv\")"
   ]
  },
  {
   "cell_type": "code",
   "execution_count": 3,
   "metadata": {},
   "outputs": [
    {
     "data": {
      "text/plain": [
       "(4281, 121)"
      ]
     },
     "execution_count": 3,
     "metadata": {},
     "output_type": "execute_result"
    }
   ],
   "source": [
    "tuition_fees.shape"
   ]
  },
  {
   "cell_type": "code",
   "execution_count": 4,
   "metadata": {},
   "outputs": [
    {
     "data": {
      "text/plain": [
       "Index(['school_id', 'dist_tuit_ft_ug', 'dist_fees_ft_ug', 'dist_hour_pt_ug',\n",
       "       'is_tuit_ft_ug', 'is_fees_ft_ug', 'is_hour_pt_ug', 'os_tuition_ft_ug',\n",
       "       'os_fees_ft_ug', 'os_hour_pt_ug',\n",
       "       ...\n",
       "       'off_nofam_rmbd_17', 'off_nofam_rmbd_18', 'off_nofam_other_15',\n",
       "       'off_nofam_other_16', 'off_nofam_other_17', 'off_other_nofam_18',\n",
       "       'off_other_fam_15', 'off_other_fam_16', 'off_other_fam_17',\n",
       "       'off_other_fam_18'],\n",
       "      dtype='object', length=121)"
      ]
     },
     "execution_count": 4,
     "metadata": {},
     "output_type": "execute_result"
    }
   ],
   "source": [
    "tuition_fees.columns"
   ]
  },
  {
   "cell_type": "code",
   "execution_count": 5,
   "metadata": {},
   "outputs": [
    {
     "data": {
      "text/plain": [
       "(6394, 64)"
      ]
     },
     "execution_count": 5,
     "metadata": {},
     "output_type": "execute_result"
    }
   ],
   "source": [
    "finan_aid_one.shape"
   ]
  },
  {
   "cell_type": "code",
   "execution_count": 6,
   "metadata": {},
   "outputs": [
    {
     "data": {
      "text/plain": [
       "Index(['school_id', 'num_student_fall', 'pct_student_fall',\n",
       "       'num_stud_dist_fall', 'pct_stud_dist_fall', 'num_stud_is_fall',\n",
       "       'pct_stud_is_fall', 'num_stud_oos_fall', 'pct_stud_oos_fall',\n",
       "       'total_ug_fall', 'num_ft_ug_anyaid', 'pct_ft_ug_anyaid',\n",
       "       'num_ft_ug_fedaid', 'pct_ft_ug_fedaid', 'ft_ug_avg_aid',\n",
       "       'ft_ug_stateaid', 'pct_ft_ug_stateaid', 'avg_ft_ug_stateaid',\n",
       "       'num_ft_ug_instgrant', 'pct_ft_ug_instgrant', 'avg_ft_ug_instgrant',\n",
       "       'num_ft_ug_loans', 'pct_ft_ug_loans', 'avg_ft_ug_loans', 'SCUGFFN',\n",
       "       'SCUGRAD', 'UAGRNTT', 'UPGRNTN', 'AGRNT_N', 'AGRNT_P', 'AGRNT_A',\n",
       "       'PGRNT_N', 'PGRNT_P', 'PGRNT_A', 'OFGRT_N', 'OFGRT_P', 'OFGRT_A',\n",
       "       'FLOAN_N', 'FLOAN_P', 'FLOAN_A', 'OLOAN_N', 'OLOAN_P', 'OLOAN_A',\n",
       "       'UAGRNTN', 'UAGRNTP', 'UAGRNTA', 'UPGRNTP', 'UPGRNTT', 'UPGRNTA',\n",
       "       'UFLOANN', 'UFLOANP', 'UFLOANT', 'UFLOANA', 'AGRNT_T', 'FGRNT_T',\n",
       "       'PGRNT_T', 'OFGRT_T', 'SGRNT_T', 'tot_ft_ug_inst_grant',\n",
       "       'tot_ft_ug_loans', 'tot_ft_ug_fedloan', 'tot_ft_ug_other',\n",
       "       'num_ft_ug_fed_grant', 'pct_ft_ug_fed_grant'],\n",
       "      dtype='object')"
      ]
     },
     "execution_count": 6,
     "metadata": {},
     "output_type": "execute_result"
    }
   ],
   "source": [
    "finan_aid_one.columns"
   ]
  },
  {
   "cell_type": "code",
   "execution_count": 7,
   "metadata": {
    "scrolled": true
   },
   "outputs": [
    {
     "data": {
      "text/html": [
       "<div>\n",
       "<style scoped>\n",
       "    .dataframe tbody tr th:only-of-type {\n",
       "        vertical-align: middle;\n",
       "    }\n",
       "\n",
       "    .dataframe tbody tr th {\n",
       "        vertical-align: top;\n",
       "    }\n",
       "\n",
       "    .dataframe thead th {\n",
       "        text-align: right;\n",
       "    }\n",
       "</style>\n",
       "<table border=\"1\" class=\"dataframe\">\n",
       "  <thead>\n",
       "    <tr style=\"text-align: right;\">\n",
       "      <th></th>\n",
       "      <th>school_id</th>\n",
       "      <th>dist_tuit_ft_ug</th>\n",
       "      <th>dist_fees_ft_ug</th>\n",
       "      <th>dist_hour_pt_ug</th>\n",
       "      <th>is_tuit_ft_ug</th>\n",
       "      <th>is_fees_ft_ug</th>\n",
       "      <th>is_hour_pt_ug</th>\n",
       "      <th>os_tuition_ft_ug</th>\n",
       "      <th>os_fees_ft_ug</th>\n",
       "      <th>os_hour_pt_ug</th>\n",
       "      <th>...</th>\n",
       "      <th>off_nofam_rmbd_17</th>\n",
       "      <th>off_nofam_rmbd_18</th>\n",
       "      <th>off_nofam_other_15</th>\n",
       "      <th>off_nofam_other_16</th>\n",
       "      <th>off_nofam_other_17</th>\n",
       "      <th>off_other_nofam_18</th>\n",
       "      <th>off_other_fam_15</th>\n",
       "      <th>off_other_fam_16</th>\n",
       "      <th>off_other_fam_17</th>\n",
       "      <th>off_other_fam_18</th>\n",
       "    </tr>\n",
       "  </thead>\n",
       "  <tbody>\n",
       "    <tr>\n",
       "      <td>0</td>\n",
       "      <td>100654</td>\n",
       "      <td>8379.0</td>\n",
       "      <td>1478.0</td>\n",
       "      <td>274.0</td>\n",
       "      <td>8379.0</td>\n",
       "      <td>1478.0</td>\n",
       "      <td>274.0</td>\n",
       "      <td>16758.0</td>\n",
       "      <td>1478.0</td>\n",
       "      <td>548.0</td>\n",
       "      <td>...</td>\n",
       "      <td>8830.0</td>\n",
       "      <td>8379.0</td>\n",
       "      <td>2748.0</td>\n",
       "      <td>3790.0</td>\n",
       "      <td>3090.0</td>\n",
       "      <td>2580.0</td>\n",
       "      <td>1300.0</td>\n",
       "      <td>3790.0</td>\n",
       "      <td>3090.0</td>\n",
       "      <td>2580.0</td>\n",
       "    </tr>\n",
       "    <tr>\n",
       "      <td>1</td>\n",
       "      <td>100663</td>\n",
       "      <td>8328.0</td>\n",
       "      <td>0.0</td>\n",
       "      <td>347.0</td>\n",
       "      <td>8328.0</td>\n",
       "      <td>0.0</td>\n",
       "      <td>347.0</td>\n",
       "      <td>19032.0</td>\n",
       "      <td>0.0</td>\n",
       "      <td>793.0</td>\n",
       "      <td>...</td>\n",
       "      <td>11682.0</td>\n",
       "      <td>11682.0</td>\n",
       "      <td>4886.0</td>\n",
       "      <td>4886.0</td>\n",
       "      <td>4886.0</td>\n",
       "      <td>4886.0</td>\n",
       "      <td>4886.0</td>\n",
       "      <td>4886.0</td>\n",
       "      <td>4886.0</td>\n",
       "      <td>4886.0</td>\n",
       "    </tr>\n",
       "    <tr>\n",
       "      <td>2</td>\n",
       "      <td>100690</td>\n",
       "      <td>9000.0</td>\n",
       "      <td>900.0</td>\n",
       "      <td>430.0</td>\n",
       "      <td>9000.0</td>\n",
       "      <td>900.0</td>\n",
       "      <td>430.0</td>\n",
       "      <td>9000.0</td>\n",
       "      <td>900.0</td>\n",
       "      <td>430.0</td>\n",
       "      <td>...</td>\n",
       "      <td>9600.0</td>\n",
       "      <td>9600.0</td>\n",
       "      <td>1600.0</td>\n",
       "      <td>1500.0</td>\n",
       "      <td>1600.0</td>\n",
       "      <td>1600.0</td>\n",
       "      <td>1600.0</td>\n",
       "      <td>1500.0</td>\n",
       "      <td>1600.0</td>\n",
       "      <td>1600.0</td>\n",
       "    </tr>\n",
       "    <tr>\n",
       "      <td>3</td>\n",
       "      <td>100706</td>\n",
       "      <td>9356.0</td>\n",
       "      <td>924.0</td>\n",
       "      <td>411.0</td>\n",
       "      <td>9356.0</td>\n",
       "      <td>924.0</td>\n",
       "      <td>411.0</td>\n",
       "      <td>20556.0</td>\n",
       "      <td>924.0</td>\n",
       "      <td>908.0</td>\n",
       "      <td>...</td>\n",
       "      <td>9603.0</td>\n",
       "      <td>9748.0</td>\n",
       "      <td>4302.0</td>\n",
       "      <td>4508.0</td>\n",
       "      <td>3578.0</td>\n",
       "      <td>3697.0</td>\n",
       "      <td>4302.0</td>\n",
       "      <td>4508.0</td>\n",
       "      <td>3578.0</td>\n",
       "      <td>3697.0</td>\n",
       "    </tr>\n",
       "    <tr>\n",
       "      <td>4</td>\n",
       "      <td>100724</td>\n",
       "      <td>8328.0</td>\n",
       "      <td>2740.0</td>\n",
       "      <td>347.0</td>\n",
       "      <td>8328.0</td>\n",
       "      <td>2740.0</td>\n",
       "      <td>347.0</td>\n",
       "      <td>16656.0</td>\n",
       "      <td>2740.0</td>\n",
       "      <td>694.0</td>\n",
       "      <td>...</td>\n",
       "      <td>7320.0</td>\n",
       "      <td>7320.0</td>\n",
       "      <td>3172.0</td>\n",
       "      <td>4228.0</td>\n",
       "      <td>4228.0</td>\n",
       "      <td>4228.0</td>\n",
       "      <td>3172.0</td>\n",
       "      <td>4228.0</td>\n",
       "      <td>4228.0</td>\n",
       "      <td>4228.0</td>\n",
       "    </tr>\n",
       "  </tbody>\n",
       "</table>\n",
       "<p>5 rows × 121 columns</p>\n",
       "</div>"
      ],
      "text/plain": [
       "   school_id  dist_tuit_ft_ug  dist_fees_ft_ug  dist_hour_pt_ug  \\\n",
       "0     100654           8379.0           1478.0            274.0   \n",
       "1     100663           8328.0              0.0            347.0   \n",
       "2     100690           9000.0            900.0            430.0   \n",
       "3     100706           9356.0            924.0            411.0   \n",
       "4     100724           8328.0           2740.0            347.0   \n",
       "\n",
       "   is_tuit_ft_ug  is_fees_ft_ug  is_hour_pt_ug  os_tuition_ft_ug  \\\n",
       "0         8379.0         1478.0          274.0           16758.0   \n",
       "1         8328.0            0.0          347.0           19032.0   \n",
       "2         9000.0          900.0          430.0            9000.0   \n",
       "3         9356.0          924.0          411.0           20556.0   \n",
       "4         8328.0         2740.0          347.0           16656.0   \n",
       "\n",
       "   os_fees_ft_ug  os_hour_pt_ug  ...  off_nofam_rmbd_17  off_nofam_rmbd_18  \\\n",
       "0         1478.0          548.0  ...             8830.0             8379.0   \n",
       "1            0.0          793.0  ...            11682.0            11682.0   \n",
       "2          900.0          430.0  ...             9600.0             9600.0   \n",
       "3          924.0          908.0  ...             9603.0             9748.0   \n",
       "4         2740.0          694.0  ...             7320.0             7320.0   \n",
       "\n",
       "   off_nofam_other_15  off_nofam_other_16  off_nofam_other_17  \\\n",
       "0              2748.0              3790.0              3090.0   \n",
       "1              4886.0              4886.0              4886.0   \n",
       "2              1600.0              1500.0              1600.0   \n",
       "3              4302.0              4508.0              3578.0   \n",
       "4              3172.0              4228.0              4228.0   \n",
       "\n",
       "   off_other_nofam_18  off_other_fam_15  off_other_fam_16  off_other_fam_17  \\\n",
       "0              2580.0            1300.0            3790.0            3090.0   \n",
       "1              4886.0            4886.0            4886.0            4886.0   \n",
       "2              1600.0            1600.0            1500.0            1600.0   \n",
       "3              3697.0            4302.0            4508.0            3578.0   \n",
       "4              4228.0            3172.0            4228.0            4228.0   \n",
       "\n",
       "   off_other_fam_18  \n",
       "0            2580.0  \n",
       "1            4886.0  \n",
       "2            1600.0  \n",
       "3            3697.0  \n",
       "4            4228.0  \n",
       "\n",
       "[5 rows x 121 columns]"
      ]
     },
     "execution_count": 7,
     "metadata": {},
     "output_type": "execute_result"
    }
   ],
   "source": [
    "tuition_fees.head()"
   ]
  },
  {
   "cell_type": "code",
   "execution_count": 8,
   "metadata": {},
   "outputs": [
    {
     "data": {
      "text/html": [
       "<div>\n",
       "<style scoped>\n",
       "    .dataframe tbody tr th:only-of-type {\n",
       "        vertical-align: middle;\n",
       "    }\n",
       "\n",
       "    .dataframe tbody tr th {\n",
       "        vertical-align: top;\n",
       "    }\n",
       "\n",
       "    .dataframe thead th {\n",
       "        text-align: right;\n",
       "    }\n",
       "</style>\n",
       "<table border=\"1\" class=\"dataframe\">\n",
       "  <thead>\n",
       "    <tr style=\"text-align: right;\">\n",
       "      <th></th>\n",
       "      <th>school_id</th>\n",
       "      <th>num_student_fall</th>\n",
       "      <th>pct_student_fall</th>\n",
       "      <th>num_stud_dist_fall</th>\n",
       "      <th>pct_stud_dist_fall</th>\n",
       "      <th>num_stud_is_fall</th>\n",
       "      <th>pct_stud_is_fall</th>\n",
       "      <th>num_stud_oos_fall</th>\n",
       "      <th>pct_stud_oos_fall</th>\n",
       "      <th>total_ug_fall</th>\n",
       "      <th>...</th>\n",
       "      <th>FGRNT_T</th>\n",
       "      <th>PGRNT_T</th>\n",
       "      <th>OFGRT_T</th>\n",
       "      <th>SGRNT_T</th>\n",
       "      <th>tot_ft_ug_inst_grant</th>\n",
       "      <th>tot_ft_ug_loans</th>\n",
       "      <th>tot_ft_ug_fedloan</th>\n",
       "      <th>tot_ft_ug_other</th>\n",
       "      <th>num_ft_ug_fed_grant</th>\n",
       "      <th>pct_ft_ug_fed_grant</th>\n",
       "    </tr>\n",
       "  </thead>\n",
       "  <tbody>\n",
       "    <tr>\n",
       "      <td>0</td>\n",
       "      <td>100654</td>\n",
       "      <td>1410</td>\n",
       "      <td>29</td>\n",
       "      <td>0</td>\n",
       "      <td>0</td>\n",
       "      <td>858</td>\n",
       "      <td>61</td>\n",
       "      <td>552</td>\n",
       "      <td>39</td>\n",
       "      <td>4851</td>\n",
       "      <td>...</td>\n",
       "      <td>4815142</td>\n",
       "      <td>4683617</td>\n",
       "      <td>131525</td>\n",
       "      <td>751194</td>\n",
       "      <td>4199256</td>\n",
       "      <td>6622483</td>\n",
       "      <td>6412830</td>\n",
       "      <td>209653</td>\n",
       "      <td>1272</td>\n",
       "      <td>90</td>\n",
       "    </tr>\n",
       "    <tr>\n",
       "      <td>1</td>\n",
       "      <td>100663</td>\n",
       "      <td>1948</td>\n",
       "      <td>16</td>\n",
       "      <td>0</td>\n",
       "      <td>0</td>\n",
       "      <td>1654</td>\n",
       "      <td>85</td>\n",
       "      <td>294</td>\n",
       "      <td>15</td>\n",
       "      <td>12369</td>\n",
       "      <td>...</td>\n",
       "      <td>3992347</td>\n",
       "      <td>3709480</td>\n",
       "      <td>282867</td>\n",
       "      <td>37357</td>\n",
       "      <td>11599891</td>\n",
       "      <td>7784870</td>\n",
       "      <td>6538553</td>\n",
       "      <td>1246317</td>\n",
       "      <td>1807</td>\n",
       "      <td>93</td>\n",
       "    </tr>\n",
       "    <tr>\n",
       "      <td>2</td>\n",
       "      <td>100690</td>\n",
       "      <td>4</td>\n",
       "      <td>1</td>\n",
       "      <td>0</td>\n",
       "      <td>0</td>\n",
       "      <td>0</td>\n",
       "      <td>0</td>\n",
       "      <td>0</td>\n",
       "      <td>0</td>\n",
       "      <td>294</td>\n",
       "      <td>...</td>\n",
       "      <td>10861</td>\n",
       "      <td>10661</td>\n",
       "      <td>200</td>\n",
       "      <td>300</td>\n",
       "      <td>5300</td>\n",
       "      <td>13166</td>\n",
       "      <td>13166</td>\n",
       "      <td>0</td>\n",
       "      <td>2</td>\n",
       "      <td>50</td>\n",
       "    </tr>\n",
       "    <tr>\n",
       "      <td>3</td>\n",
       "      <td>100706</td>\n",
       "      <td>1203</td>\n",
       "      <td>18</td>\n",
       "      <td>0</td>\n",
       "      <td>0</td>\n",
       "      <td>930</td>\n",
       "      <td>77</td>\n",
       "      <td>273</td>\n",
       "      <td>23</td>\n",
       "      <td>6507</td>\n",
       "      <td>...</td>\n",
       "      <td>1121742</td>\n",
       "      <td>1040120</td>\n",
       "      <td>81622</td>\n",
       "      <td>11250</td>\n",
       "      <td>8731653</td>\n",
       "      <td>3228422</td>\n",
       "      <td>2660723</td>\n",
       "      <td>567699</td>\n",
       "      <td>1060</td>\n",
       "      <td>88</td>\n",
       "    </tr>\n",
       "    <tr>\n",
       "      <td>4</td>\n",
       "      <td>100724</td>\n",
       "      <td>1143</td>\n",
       "      <td>24</td>\n",
       "      <td>0</td>\n",
       "      <td>0</td>\n",
       "      <td>584</td>\n",
       "      <td>51</td>\n",
       "      <td>401</td>\n",
       "      <td>35</td>\n",
       "      <td>4727</td>\n",
       "      <td>...</td>\n",
       "      <td>4249148</td>\n",
       "      <td>4119764</td>\n",
       "      <td>129384</td>\n",
       "      <td>771223</td>\n",
       "      <td>2636196</td>\n",
       "      <td>5776381</td>\n",
       "      <td>5644876</td>\n",
       "      <td>131505</td>\n",
       "      <td>1070</td>\n",
       "      <td>94</td>\n",
       "    </tr>\n",
       "  </tbody>\n",
       "</table>\n",
       "<p>5 rows × 64 columns</p>\n",
       "</div>"
      ],
      "text/plain": [
       "   school_id  num_student_fall  pct_student_fall  num_stud_dist_fall  \\\n",
       "0     100654              1410                29                   0   \n",
       "1     100663              1948                16                   0   \n",
       "2     100690                 4                 1                   0   \n",
       "3     100706              1203                18                   0   \n",
       "4     100724              1143                24                   0   \n",
       "\n",
       "   pct_stud_dist_fall  num_stud_is_fall  pct_stud_is_fall  num_stud_oos_fall  \\\n",
       "0                   0               858                61                552   \n",
       "1                   0              1654                85                294   \n",
       "2                   0                 0                 0                  0   \n",
       "3                   0               930                77                273   \n",
       "4                   0               584                51                401   \n",
       "\n",
       "   pct_stud_oos_fall  total_ug_fall  ...  FGRNT_T  PGRNT_T  OFGRT_T  SGRNT_T  \\\n",
       "0                 39           4851  ...  4815142  4683617   131525   751194   \n",
       "1                 15          12369  ...  3992347  3709480   282867    37357   \n",
       "2                  0            294  ...    10861    10661      200      300   \n",
       "3                 23           6507  ...  1121742  1040120    81622    11250   \n",
       "4                 35           4727  ...  4249148  4119764   129384   771223   \n",
       "\n",
       "   tot_ft_ug_inst_grant  tot_ft_ug_loans  tot_ft_ug_fedloan  tot_ft_ug_other  \\\n",
       "0               4199256          6622483            6412830           209653   \n",
       "1              11599891          7784870            6538553          1246317   \n",
       "2                  5300            13166              13166                0   \n",
       "3               8731653          3228422            2660723           567699   \n",
       "4               2636196          5776381            5644876           131505   \n",
       "\n",
       "   num_ft_ug_fed_grant  pct_ft_ug_fed_grant  \n",
       "0                 1272                   90  \n",
       "1                 1807                   93  \n",
       "2                    2                   50  \n",
       "3                 1060                   88  \n",
       "4                 1070                   94  \n",
       "\n",
       "[5 rows x 64 columns]"
      ]
     },
     "execution_count": 8,
     "metadata": {},
     "output_type": "execute_result"
    }
   ],
   "source": [
    "finan_aid_one.head()"
   ]
  },
  {
   "cell_type": "markdown",
   "metadata": {},
   "source": [
    "## Read in modified directory info data"
   ]
  },
  {
   "cell_type": "code",
   "execution_count": 9,
   "metadata": {},
   "outputs": [],
   "source": [
    "ipeds_directory = pd.read_csv(\"../data/directory_filtered.csv\")"
   ]
  },
  {
   "cell_type": "code",
   "execution_count": 10,
   "metadata": {},
   "outputs": [
    {
     "data": {
      "text/plain": [
       "(6993, 58)"
      ]
     },
     "execution_count": 10,
     "metadata": {},
     "output_type": "execute_result"
    }
   ],
   "source": [
    "ipeds_directory.shape"
   ]
  },
  {
   "cell_type": "code",
   "execution_count": 11,
   "metadata": {},
   "outputs": [],
   "source": [
    "# Merge with tuition and fees df\n",
    "directory_costs =  pd.merge(ipeds_directory, tuition_fees, on = 'school_id')"
   ]
  },
  {
   "cell_type": "code",
   "execution_count": 12,
   "metadata": {},
   "outputs": [
    {
     "data": {
      "text/plain": [
       "(4170, 178)"
      ]
     },
     "execution_count": 12,
     "metadata": {},
     "output_type": "execute_result"
    }
   ],
   "source": [
    "directory_costs.shape"
   ]
  },
  {
   "cell_type": "code",
   "execution_count": 14,
   "metadata": {},
   "outputs": [
    {
     "data": {
      "text/plain": [
       "Index(['Unnamed: 0', 'school_id', 'institution_name', 'address', 'city',\n",
       "       'state_abbr', 'zipcode', 'fips_code', 'app_url', 'net_price_url',\n",
       "       ...\n",
       "       'off_nofam_rmbd_17', 'off_nofam_rmbd_18', 'off_nofam_other_15',\n",
       "       'off_nofam_other_16', 'off_nofam_other_17', 'off_other_nofam_18',\n",
       "       'off_other_fam_15', 'off_other_fam_16', 'off_other_fam_17',\n",
       "       'off_other_fam_18'],\n",
       "      dtype='object', length=178)"
      ]
     },
     "execution_count": 14,
     "metadata": {},
     "output_type": "execute_result"
    }
   ],
   "source": [
    "directory_costs.columns"
   ]
  },
  {
   "cell_type": "code",
   "execution_count": null,
   "metadata": {},
   "outputs": [],
   "source": []
  }
 ],
 "metadata": {
  "kernelspec": {
   "display_name": "Python 3",
   "language": "python",
   "name": "python3"
  },
  "language_info": {
   "codemirror_mode": {
    "name": "ipython",
    "version": 3
   },
   "file_extension": ".py",
   "mimetype": "text/x-python",
   "name": "python",
   "nbconvert_exporter": "python",
   "pygments_lexer": "ipython3",
   "version": "3.7.4"
  }
 },
 "nbformat": 4,
 "nbformat_minor": 2
}
