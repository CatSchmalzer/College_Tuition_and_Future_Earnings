{
 "cells": [
  {
   "cell_type": "markdown",
   "metadata": {},
   "source": [
    "## IPEDS Data Exploration and Analysis"
   ]
  },
  {
   "cell_type": "code",
   "execution_count": null,
   "metadata": {},
   "outputs": [],
   "source": [
    "import pandas as pd\n",
    "import numpy as np\n",
    "import matplotlib.pyplot as plt\n",
    "import seaborn as sns\n",
    "\n",
    "%matplotlib inline\n",
    "sns.set_style(\"whitegrid\")\n",
    "plt.style.use(\"fivethirtyeight\")"
   ]
  },
  {
   "cell_type": "markdown",
   "metadata": {},
   "source": [
    "## Read in School Information"
   ]
  },
  {
   "cell_type": "code",
   "execution_count": null,
   "metadata": {},
   "outputs": [],
   "source": [
    "directory = pd.read_csv(\"../data/ipeds_directory_info_2017_18.csv\")"
   ]
  },
  {
   "cell_type": "code",
   "execution_count": null,
   "metadata": {},
   "outputs": [],
   "source": [
    "directory.head()"
   ]
  },
  {
   "cell_type": "code",
   "execution_count": null,
   "metadata": {},
   "outputs": [],
   "source": [
    "## look at shape\n",
    "directory.shape"
   ]
  },
  {
   "cell_type": "code",
   "execution_count": null,
   "metadata": {},
   "outputs": [],
   "source": [
    "directory.tail()"
   ]
  },
  {
   "cell_type": "code",
   "execution_count": null,
   "metadata": {},
   "outputs": [],
   "source": [
    "## count of nulls\n",
    "directory.isna().sum()"
   ]
  },
  {
   "cell_type": "markdown",
   "metadata": {},
   "source": [
    "## Read in Admissions Information"
   ]
  },
  {
   "cell_type": "code",
   "execution_count": null,
   "metadata": {},
   "outputs": [],
   "source": [
    "admissions_cond = pd.read_csv(\"../data/ipeds_admissions_2017_18.csv\")"
   ]
  },
  {
   "cell_type": "code",
   "execution_count": null,
   "metadata": {},
   "outputs": [],
   "source": [
    "admissions_cond.head()"
   ]
  },
  {
   "cell_type": "code",
   "execution_count": null,
   "metadata": {},
   "outputs": [],
   "source": [
    "## How many options in entrance considerations? How many schools stress each the most out of 7153 schools.\n",
    "admissions_cond['cond_gpa'].value_counts()"
   ]
  },
  {
   "cell_type": "code",
   "execution_count": null,
   "metadata": {},
   "outputs": [],
   "source": [
    "admissions_cond['cond_test_scores'].value_counts()"
   ]
  },
  {
   "cell_type": "code",
   "execution_count": null,
   "metadata": {},
   "outputs": [],
   "source": [
    "admissions_cond['cond_college_prep'].value_counts()"
   ]
  },
  {
   "cell_type": "markdown",
   "metadata": {},
   "source": [
    "## Added columns for sat_comp_25 and sat_comp_75  as these were not in database"
   ]
  },
  {
   "cell_type": "code",
   "execution_count": null,
   "metadata": {},
   "outputs": [],
   "source": [
    "admissions_cond['sat_comp_25'] = admissions_cond['sat_verb_25'] + admissions_cond['sat_math_25']\n",
    "admissions_cond['sat_comp_75'] = admissions_cond['sat_verb_75'] + admissions_cond['sat_math_75']"
   ]
  },
  {
   "cell_type": "markdown",
   "metadata": {},
   "source": [
    "## Some EDA on this dataset"
   ]
  },
  {
   "cell_type": "code",
   "execution_count": null,
   "metadata": {},
   "outputs": [],
   "source": [
    "## look at shape\n",
    "admissions_cond.shape"
   ]
  },
  {
   "cell_type": "code",
   "execution_count": null,
   "metadata": {},
   "outputs": [],
   "source": [
    "## look at nulls\n",
    "admissions_cond.isna().sum()"
   ]
  },
  {
   "cell_type": "markdown",
   "metadata": {},
   "source": [
    "## Read in derived admissions stats"
   ]
  },
  {
   "cell_type": "code",
   "execution_count": null,
   "metadata": {},
   "outputs": [],
   "source": [
    "admissions_derived = pd.read_csv(\"../data/ipeds_derived_admiss_stats_2017.csv\")"
   ]
  },
  {
   "cell_type": "code",
   "execution_count": null,
   "metadata": {},
   "outputs": [],
   "source": [
    "admissions_derived.head()"
   ]
  },
  {
   "cell_type": "code",
   "execution_count": null,
   "metadata": {},
   "outputs": [],
   "source": [
    "admissions_derived.shape"
   ]
  },
  {
   "cell_type": "code",
   "execution_count": null,
   "metadata": {},
   "outputs": [],
   "source": [
    "## Histgram of percent admitted\n",
    "plt.figure(figsize=(12, 8))\n",
    "admissions_derived['perc_admit_total'].hist(bins=20)\n",
    "plt.title('Percentage of Applicants Accepted')"
   ]
  },
  {
   "cell_type": "code",
   "execution_count": null,
   "metadata": {},
   "outputs": [],
   "source": [
    "## Histgram of percent enrolled\n",
    "plt.figure(figsize=(12, 8))\n",
    "admissions_derived['admit_yield_total'].hist(bins=20)\n",
    "plt.title('Percentage of Students that Enrolled')"
   ]
  },
  {
   "cell_type": "code",
   "execution_count": null,
   "metadata": {},
   "outputs": [],
   "source": [
    "##Scatter Plot of Total Students accepted vs. enrolled\n",
    "plt.figure(figsize=(12, 8))\n",
    "plt.scatter('perc_admit_total', 'admit_yield_total', data = admissions_derived, c='orange')\n",
    "plt.xlabel('% Total Admitted')\n",
    "plt.ylabel('% Total Enrolled')\n",
    "plt.title('Percentage of Students Accepted vs. Enrolled', color = 'black');"
   ]
  },
  {
   "cell_type": "code",
   "execution_count": null,
   "metadata": {},
   "outputs": [],
   "source": [
    "##Scatter Plot of Women accepted vs. enrolled\n",
    "plt.figure(figsize=(12, 8))\n",
    "plt.scatter('perc_admit_women', 'admit_yield_women', data = admissions_derived, c='palevioletred')\n",
    "plt.xlabel('% Women Admitted')\n",
    "plt.ylabel('% Women Enrolled')\n",
    "plt.title('Percentage of Women Accepted vs. Enrolled', color = 'black');"
   ]
  },
  {
   "cell_type": "code",
   "execution_count": null,
   "metadata": {},
   "outputs": [],
   "source": [
    "##Scatter Plot of Men accepted vs. enrolled\n",
    "plt.figure(figsize=(12, 8))\n",
    "plt.scatter('perc_admit_men', 'admit_yield_men', data = admissions_derived)\n",
    "plt.xlabel('% Men Admitted')\n",
    "plt.ylabel('% Men Enrolled')\n",
    "plt.title('Percentage of Men Accepted vs. Enrolled', color = 'black');"
   ]
  },
  {
   "cell_type": "markdown",
   "metadata": {},
   "source": [
    "## Schools that accept less than 35% of applicants..."
   ]
  },
  {
   "cell_type": "code",
   "execution_count": null,
   "metadata": {},
   "outputs": [],
   "source": [
    "## Some shools had zero acceptance so I filtered these out.\n",
    "hi_selective_schools = admissions_derived.loc[(admissions_derived['perc_admit_total'] < 35) & (admissions_derived['perc_admit_total'] != 0)]"
   ]
  },
  {
   "cell_type": "code",
   "execution_count": null,
   "metadata": {},
   "outputs": [],
   "source": [
    "hi_selective_schools.shape"
   ]
  },
  {
   "cell_type": "code",
   "execution_count": null,
   "metadata": {},
   "outputs": [],
   "source": [
    "hi_selective_schools"
   ]
  },
  {
   "cell_type": "code",
   "execution_count": null,
   "metadata": {},
   "outputs": [],
   "source": [
    "hi_selective_schools.tail()"
   ]
  },
  {
   "cell_type": "markdown",
   "metadata": {},
   "source": [
    "## Merge with basic school directory info so we have school name and loction..."
   ]
  },
  {
   "cell_type": "code",
   "execution_count": null,
   "metadata": {},
   "outputs": [],
   "source": [
    "## create subset of directory dataframe\n",
    "basic_school_info = directory[['school_id', 'institution_name', 'city', 'state_abbr', 'zipcode']]"
   ]
  },
  {
   "cell_type": "code",
   "execution_count": null,
   "metadata": {},
   "outputs": [],
   "source": [
    "basic_school_info"
   ]
  },
  {
   "cell_type": "code",
   "execution_count": null,
   "metadata": {},
   "outputs": [],
   "source": [
    "## merge with hi_selective_schools\n",
    "hi_selective_schools = pd.merge(basic_school_info, hi_selective_schools, how = 'right', on = 'school_id')"
   ]
  },
  {
   "cell_type": "code",
   "execution_count": null,
   "metadata": {},
   "outputs": [],
   "source": [
    "hi_selective_schools.head()"
   ]
  },
  {
   "cell_type": "code",
   "execution_count": null,
   "metadata": {},
   "outputs": [],
   "source": [
    "hi_selective_schools.tail()"
   ]
  },
  {
   "cell_type": "code",
   "execution_count": null,
   "metadata": {},
   "outputs": [],
   "source": [
    "hi_selective_schools.shape"
   ]
  },
  {
   "cell_type": "code",
   "execution_count": null,
   "metadata": {},
   "outputs": [],
   "source": []
  },
  {
   "cell_type": "markdown",
   "metadata": {},
   "source": [
    "## Website used for highly selective school criteria. Used second category to pull first two groups of schools.\n",
    "https://www.collegetransitions.com/college-selectivity/#:~:text=EXTREMELY%20SELECTIVE%20colleges%20accept%20fewer,score%20of%20at%20least%201340."
   ]
  },
  {
   "cell_type": "markdown",
   "metadata": {},
   "source": [
    "## Define \"highly selective\" as all schools that meet these conditions: \n",
    "- Accept fewer than 35% of all applicants,\n",
    "- AND possess an average composite ACT (25%tile) score of at least 29 \n",
    "- OR an average combined SAT (25%tile) score of at least 1340."
   ]
  },
  {
   "cell_type": "code",
   "execution_count": null,
   "metadata": {},
   "outputs": [],
   "source": [
    "test_scores = admissions_cond[['school_id', 'sat_comp_25', 'sat_comp_75','sat_verb_25', 'sat_verb_75', 'sat_math_25', 'sat_math_75', \n",
    "                              'act_comp_25', 'act_comp_75', 'act_eng_25', 'act_eng_75', 'act_math_25', 'act_math_75']]"
   ]
  },
  {
   "cell_type": "markdown",
   "metadata": {},
   "source": [
    "### Merge in the test score data"
   ]
  },
  {
   "cell_type": "code",
   "execution_count": null,
   "metadata": {},
   "outputs": [],
   "source": [
    "hi_selective_schools = pd.merge(hi_selective_schools, test_scores, how = 'left', on = 'school_id')"
   ]
  },
  {
   "cell_type": "code",
   "execution_count": null,
   "metadata": {},
   "outputs": [],
   "source": [
    "hi_selective_schools.head()"
   ]
  },
  {
   "cell_type": "code",
   "execution_count": null,
   "metadata": {},
   "outputs": [],
   "source": [
    "hi_selective_schools.isna().sum()"
   ]
  },
  {
   "cell_type": "markdown",
   "metadata": {},
   "source": [
    "## Now filter for the test score criteria"
   ]
  },
  {
   "cell_type": "code",
   "execution_count": null,
   "metadata": {},
   "outputs": [],
   "source": [
    "hi_schools_with_scores = hi_selective_schools.loc[(hi_selective_schools['act_comp_25'] >= 29.0)|(hi_selective_schools['sat_comp_25'] >= 1340.0)]"
   ]
  },
  {
   "cell_type": "code",
   "execution_count": null,
   "metadata": {},
   "outputs": [],
   "source": [
    "hi_schools_with_scores.shape"
   ]
  },
  {
   "cell_type": "code",
   "execution_count": null,
   "metadata": {},
   "outputs": [],
   "source": [
    "hi_schools_with_scores.head()"
   ]
  },
  {
   "cell_type": "code",
   "execution_count": null,
   "metadata": {},
   "outputs": [],
   "source": [
    "hi_schools_with_scores.reset_index(drop=True)"
   ]
  },
  {
   "cell_type": "code",
   "execution_count": null,
   "metadata": {},
   "outputs": [],
   "source": [
    "hi_schools_with_scores.sort_values(by = ['perc_admit_total'])"
   ]
  },
  {
   "cell_type": "code",
   "execution_count": null,
   "metadata": {},
   "outputs": [],
   "source": [
    "## Average act_comp_25\n",
    "hi_schools_with_scores['act_comp_25'].mean()"
   ]
  },
  {
   "cell_type": "code",
   "execution_count": null,
   "metadata": {},
   "outputs": [],
   "source": [
    "## Average act_comp_75\n",
    "hi_schools_with_scores['act_comp_75'].mean()"
   ]
  },
  {
   "cell_type": "code",
   "execution_count": null,
   "metadata": {},
   "outputs": [],
   "source": [
    "## Average sat_comp_25\n",
    "hi_schools_with_scores['sat_comp_25'].mean()"
   ]
  },
  {
   "cell_type": "code",
   "execution_count": null,
   "metadata": {},
   "outputs": [],
   "source": [
    "## Average sat_comp_75\n",
    "hi_schools_with_scores['sat_comp_75'].mean()"
   ]
  },
  {
   "cell_type": "code",
   "execution_count": null,
   "metadata": {},
   "outputs": [],
   "source": []
  }
 ],
 "metadata": {
  "kernelspec": {
   "display_name": "Python 3",
   "language": "python",
   "name": "python3"
  },
  "language_info": {
   "codemirror_mode": {
    "name": "ipython",
    "version": 3
   },
   "file_extension": ".py",
   "mimetype": "text/x-python",
   "name": "python",
   "nbconvert_exporter": "python",
   "pygments_lexer": "ipython3",
   "version": "3.7.4"
  }
 },
 "nbformat": 4,
 "nbformat_minor": 2
}
