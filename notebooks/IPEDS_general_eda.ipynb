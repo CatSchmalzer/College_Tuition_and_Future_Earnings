{
 "cells": [
  {
   "cell_type": "markdown",
   "metadata": {},
   "source": [
    "## IPEDS Data Exploration and Analysis"
   ]
  },
  {
   "cell_type": "code",
   "execution_count": 1,
   "metadata": {
    "scrolled": true
   },
   "outputs": [],
   "source": [
    "import pandas as pd\n",
    "import numpy as np\n",
    "import matplotlib.pyplot as plt\n",
    "import seaborn as sns\n",
    "\n",
    "%matplotlib inline\n",
    "sns.set_style(\"whitegrid\")\n",
    "plt.style.use(\"fivethirtyeight\")"
   ]
  },
  {
   "cell_type": "markdown",
   "metadata": {},
   "source": [
    "## Read in School Information"
   ]
  },
  {
   "cell_type": "code",
   "execution_count": 2,
   "metadata": {
    "scrolled": true
   },
   "outputs": [],
   "source": [
    "directory = pd.read_csv(\"../data/ipeds_directory_info_2017_18.csv\")"
   ]
  },
  {
   "cell_type": "code",
   "execution_count": 3,
   "metadata": {
    "scrolled": true
   },
   "outputs": [
    {
     "data": {
      "text/html": [
       "<div>\n",
       "<style scoped>\n",
       "    .dataframe tbody tr th:only-of-type {\n",
       "        vertical-align: middle;\n",
       "    }\n",
       "\n",
       "    .dataframe tbody tr th {\n",
       "        vertical-align: top;\n",
       "    }\n",
       "\n",
       "    .dataframe thead th {\n",
       "        text-align: right;\n",
       "    }\n",
       "</style>\n",
       "<table border=\"1\" class=\"dataframe\">\n",
       "  <thead>\n",
       "    <tr style=\"text-align: right;\">\n",
       "      <th></th>\n",
       "      <th>school_id</th>\n",
       "      <th>institution_name</th>\n",
       "      <th>address</th>\n",
       "      <th>city</th>\n",
       "      <th>state_abbr</th>\n",
       "      <th>zipcode</th>\n",
       "      <th>fips_code</th>\n",
       "      <th>bea_region</th>\n",
       "      <th>employer_id</th>\n",
       "      <th>ope_id</th>\n",
       "      <th>...</th>\n",
       "      <th>cbsa_type</th>\n",
       "      <th>csa</th>\n",
       "      <th>necta</th>\n",
       "      <th>fips_county_code</th>\n",
       "      <th>county_name</th>\n",
       "      <th>congress_dist</th>\n",
       "      <th>longitude</th>\n",
       "      <th>latitude</th>\n",
       "      <th>data_fdbk_group</th>\n",
       "      <th>data_fdbk_custom</th>\n",
       "    </tr>\n",
       "  </thead>\n",
       "  <tbody>\n",
       "    <tr>\n",
       "      <td>0</td>\n",
       "      <td>100654</td>\n",
       "      <td>Alabama A &amp; M University</td>\n",
       "      <td>4900 Meridian Street</td>\n",
       "      <td>Normal</td>\n",
       "      <td>AL</td>\n",
       "      <td>35762</td>\n",
       "      <td>1</td>\n",
       "      <td>5</td>\n",
       "      <td>636001109</td>\n",
       "      <td>100200.0</td>\n",
       "      <td>...</td>\n",
       "      <td>1</td>\n",
       "      <td>290</td>\n",
       "      <td>-2</td>\n",
       "      <td>1089</td>\n",
       "      <td>Madison County</td>\n",
       "      <td>105</td>\n",
       "      <td>-86.568502</td>\n",
       "      <td>34.783368</td>\n",
       "      <td>122</td>\n",
       "      <td>1</td>\n",
       "    </tr>\n",
       "    <tr>\n",
       "      <td>1</td>\n",
       "      <td>100663</td>\n",
       "      <td>University of Alabama at Birmingham</td>\n",
       "      <td>Administration Bldg Suite 1070</td>\n",
       "      <td>Birmingham</td>\n",
       "      <td>AL</td>\n",
       "      <td>35294-0110</td>\n",
       "      <td>1</td>\n",
       "      <td>5</td>\n",
       "      <td>636005396</td>\n",
       "      <td>105200.0</td>\n",
       "      <td>...</td>\n",
       "      <td>1</td>\n",
       "      <td>142</td>\n",
       "      <td>-2</td>\n",
       "      <td>1073</td>\n",
       "      <td>Jefferson County</td>\n",
       "      <td>107</td>\n",
       "      <td>-86.799345</td>\n",
       "      <td>33.505697</td>\n",
       "      <td>109</td>\n",
       "      <td>1</td>\n",
       "    </tr>\n",
       "    <tr>\n",
       "      <td>2</td>\n",
       "      <td>100690</td>\n",
       "      <td>Amridge University</td>\n",
       "      <td>1200 Taylor Rd</td>\n",
       "      <td>Montgomery</td>\n",
       "      <td>AL</td>\n",
       "      <td>36117-3553</td>\n",
       "      <td>1</td>\n",
       "      <td>5</td>\n",
       "      <td>237034324</td>\n",
       "      <td>2503400.0</td>\n",
       "      <td>...</td>\n",
       "      <td>1</td>\n",
       "      <td>-2</td>\n",
       "      <td>-2</td>\n",
       "      <td>1101</td>\n",
       "      <td>Montgomery County</td>\n",
       "      <td>102</td>\n",
       "      <td>-86.174010</td>\n",
       "      <td>32.362609</td>\n",
       "      <td>141</td>\n",
       "      <td>2</td>\n",
       "    </tr>\n",
       "  </tbody>\n",
       "</table>\n",
       "<p>3 rows × 62 columns</p>\n",
       "</div>"
      ],
      "text/plain": [
       "   school_id                     institution_name  \\\n",
       "0     100654             Alabama A & M University   \n",
       "1     100663  University of Alabama at Birmingham   \n",
       "2     100690                   Amridge University   \n",
       "\n",
       "                          address        city state_abbr     zipcode  \\\n",
       "0            4900 Meridian Street      Normal         AL       35762   \n",
       "1  Administration Bldg Suite 1070  Birmingham         AL  35294-0110   \n",
       "2                  1200 Taylor Rd  Montgomery         AL  36117-3553   \n",
       "\n",
       "   fips_code  bea_region  employer_id     ope_id  ...  cbsa_type  csa necta  \\\n",
       "0          1           5    636001109   100200.0  ...          1  290    -2   \n",
       "1          1           5    636005396   105200.0  ...          1  142    -2   \n",
       "2          1           5    237034324  2503400.0  ...          1   -2    -2   \n",
       "\n",
       "  fips_county_code        county_name  congress_dist  longitude   latitude  \\\n",
       "0             1089     Madison County            105 -86.568502  34.783368   \n",
       "1             1073   Jefferson County            107 -86.799345  33.505697   \n",
       "2             1101  Montgomery County            102 -86.174010  32.362609   \n",
       "\n",
       "   data_fdbk_group  data_fdbk_custom  \n",
       "0              122                 1  \n",
       "1              109                 1  \n",
       "2              141                 2  \n",
       "\n",
       "[3 rows x 62 columns]"
      ]
     },
     "execution_count": 3,
     "metadata": {},
     "output_type": "execute_result"
    }
   ],
   "source": [
    "directory.head(3)"
   ]
  },
  {
   "cell_type": "code",
   "execution_count": 4,
   "metadata": {
    "scrolled": true
   },
   "outputs": [
    {
     "data": {
      "text/plain": [
       "(7153, 62)"
      ]
     },
     "execution_count": 4,
     "metadata": {},
     "output_type": "execute_result"
    }
   ],
   "source": [
    "## look at shape\n",
    "directory.shape"
   ]
  },
  {
   "cell_type": "code",
   "execution_count": 5,
   "metadata": {
    "scrolled": true
   },
   "outputs": [
    {
     "data": {
      "text/html": [
       "<div>\n",
       "<style scoped>\n",
       "    .dataframe tbody tr th:only-of-type {\n",
       "        vertical-align: middle;\n",
       "    }\n",
       "\n",
       "    .dataframe tbody tr th {\n",
       "        vertical-align: top;\n",
       "    }\n",
       "\n",
       "    .dataframe thead th {\n",
       "        text-align: right;\n",
       "    }\n",
       "</style>\n",
       "<table border=\"1\" class=\"dataframe\">\n",
       "  <thead>\n",
       "    <tr style=\"text-align: right;\">\n",
       "      <th></th>\n",
       "      <th>school_id</th>\n",
       "      <th>institution_name</th>\n",
       "      <th>address</th>\n",
       "      <th>city</th>\n",
       "      <th>state_abbr</th>\n",
       "      <th>zipcode</th>\n",
       "      <th>fips_code</th>\n",
       "      <th>bea_region</th>\n",
       "      <th>employer_id</th>\n",
       "      <th>ope_id</th>\n",
       "      <th>...</th>\n",
       "      <th>cbsa_type</th>\n",
       "      <th>csa</th>\n",
       "      <th>necta</th>\n",
       "      <th>fips_county_code</th>\n",
       "      <th>county_name</th>\n",
       "      <th>congress_dist</th>\n",
       "      <th>longitude</th>\n",
       "      <th>latitude</th>\n",
       "      <th>data_fdbk_group</th>\n",
       "      <th>data_fdbk_custom</th>\n",
       "    </tr>\n",
       "  </thead>\n",
       "  <tbody>\n",
       "    <tr>\n",
       "      <td>7150</td>\n",
       "      <td>491419</td>\n",
       "      <td>Health Career Institute- Lauderdale Lakes</td>\n",
       "      <td>4850 West Oakland Park Boulevard</td>\n",
       "      <td>Lauderdale Lakes</td>\n",
       "      <td>FL</td>\n",
       "      <td>33313-7268</td>\n",
       "      <td>12</td>\n",
       "      <td>5</td>\n",
       "      <td>-1</td>\n",
       "      <td>4182601.0</td>\n",
       "      <td>...</td>\n",
       "      <td>1</td>\n",
       "      <td>370</td>\n",
       "      <td>-2</td>\n",
       "      <td>12011</td>\n",
       "      <td>Broward County</td>\n",
       "      <td>1220</td>\n",
       "      <td>-80.216743</td>\n",
       "      <td>26.163240</td>\n",
       "      <td>-2</td>\n",
       "      <td>-2</td>\n",
       "    </tr>\n",
       "    <tr>\n",
       "      <td>7151</td>\n",
       "      <td>491428</td>\n",
       "      <td>National University College - Mayaguez Campus</td>\n",
       "      <td>Road #2 Km.156.3, Bo. Sabalos</td>\n",
       "      <td>Mayaguez</td>\n",
       "      <td>PR</td>\n",
       "      <td>00680-0000</td>\n",
       "      <td>72</td>\n",
       "      <td>9</td>\n",
       "      <td>-1</td>\n",
       "      <td>2260605.0</td>\n",
       "      <td>...</td>\n",
       "      <td>1</td>\n",
       "      <td>364</td>\n",
       "      <td>-2</td>\n",
       "      <td>72097</td>\n",
       "      <td>Mayagüez Municipio</td>\n",
       "      <td>7298</td>\n",
       "      <td>-67.149938</td>\n",
       "      <td>18.184231</td>\n",
       "      <td>-2</td>\n",
       "      <td>-2</td>\n",
       "    </tr>\n",
       "    <tr>\n",
       "      <td>7152</td>\n",
       "      <td>491437</td>\n",
       "      <td>New Castle School of Trades - East Liverpool C...</td>\n",
       "      <td>129 E. 5th Street</td>\n",
       "      <td>East Liverpool</td>\n",
       "      <td>OH</td>\n",
       "      <td>43920-3025</td>\n",
       "      <td>39</td>\n",
       "      <td>3</td>\n",
       "      <td>-1</td>\n",
       "      <td>778003.0</td>\n",
       "      <td>...</td>\n",
       "      <td>2</td>\n",
       "      <td>566</td>\n",
       "      <td>-2</td>\n",
       "      <td>39029</td>\n",
       "      <td>Columbiana County</td>\n",
       "      <td>3906</td>\n",
       "      <td>-80.578398</td>\n",
       "      <td>40.619042</td>\n",
       "      <td>-2</td>\n",
       "      <td>-2</td>\n",
       "    </tr>\n",
       "  </tbody>\n",
       "</table>\n",
       "<p>3 rows × 62 columns</p>\n",
       "</div>"
      ],
      "text/plain": [
       "      school_id                                   institution_name  \\\n",
       "7150     491419          Health Career Institute- Lauderdale Lakes   \n",
       "7151     491428      National University College - Mayaguez Campus   \n",
       "7152     491437  New Castle School of Trades - East Liverpool C...   \n",
       "\n",
       "                               address              city state_abbr  \\\n",
       "7150  4850 West Oakland Park Boulevard  Lauderdale Lakes         FL   \n",
       "7151     Road #2 Km.156.3, Bo. Sabalos          Mayaguez         PR   \n",
       "7152                 129 E. 5th Street    East Liverpool         OH   \n",
       "\n",
       "         zipcode  fips_code  bea_region  employer_id     ope_id  ...  \\\n",
       "7150  33313-7268         12           5           -1  4182601.0  ...   \n",
       "7151  00680-0000         72           9           -1  2260605.0  ...   \n",
       "7152  43920-3025         39           3           -1   778003.0  ...   \n",
       "\n",
       "      cbsa_type  csa necta fips_county_code         county_name  \\\n",
       "7150          1  370    -2            12011      Broward County   \n",
       "7151          1  364    -2            72097  Mayagüez Municipio   \n",
       "7152          2  566    -2            39029   Columbiana County   \n",
       "\n",
       "      congress_dist  longitude   latitude  data_fdbk_group  data_fdbk_custom  \n",
       "7150           1220 -80.216743  26.163240               -2                -2  \n",
       "7151           7298 -67.149938  18.184231               -2                -2  \n",
       "7152           3906 -80.578398  40.619042               -2                -2  \n",
       "\n",
       "[3 rows x 62 columns]"
      ]
     },
     "execution_count": 5,
     "metadata": {},
     "output_type": "execute_result"
    }
   ],
   "source": [
    "directory.tail(3)"
   ]
  },
  {
   "cell_type": "code",
   "execution_count": 6,
   "metadata": {
    "scrolled": true
   },
   "outputs": [],
   "source": [
    "## count of nulls\n",
    "#directory.isna().sum()"
   ]
  },
  {
   "cell_type": "code",
   "execution_count": 7,
   "metadata": {},
   "outputs": [
    {
     "data": {
      "text/plain": [
       "Index(['school_id', 'institution_name', 'address', 'city', 'state_abbr',\n",
       "       'zipcode', 'fips_code', 'bea_region', 'employer_id', 'ope_id',\n",
       "       'ope_title_iv', 'app_url', 'net_price_url', 'ath_url', 'sector',\n",
       "       'inst_level', 'control', 'highest_offer', 'ug_offer', 'grad_offer',\n",
       "       'highest_degree', 'deg_grant_status', 'histor_black', 'has_hospital',\n",
       "       'medical_degree', 'tribal_coll', 'locale', 'open_public', 'act_status',\n",
       "       'new_id', 'year_deleted', 'date_closed', 'curr_year_active', 'post_sec',\n",
       "       'pse_flag', 'pse_t4_flag', 'report_method', 'institute_cat',\n",
       "       'cc_15_basic', 'cc_ip_ug', 'cc_ip_grad', 'cc_ug_profile',\n",
       "       'cc_enroll_profile', 'cc_size_set', 'cc_basic', 'carnegie',\n",
       "       'land_grant_inst', 'inst_size', 'multi_campus_org', 'multi_campus_name',\n",
       "       'multi_campus_id', 'cbsa', 'cbsa_type', 'csa', 'necta',\n",
       "       'fips_county_code', 'county_name', 'congress_dist', 'longitude',\n",
       "       'latitude', 'data_fdbk_group', 'data_fdbk_custom'],\n",
       "      dtype='object')"
      ]
     },
     "execution_count": 7,
     "metadata": {},
     "output_type": "execute_result"
    }
   ],
   "source": [
    "directory.columns"
   ]
  },
  {
   "cell_type": "markdown",
   "metadata": {},
   "source": [
    "## Read in Admissions Information"
   ]
  },
  {
   "cell_type": "code",
   "execution_count": 8,
   "metadata": {
    "scrolled": true
   },
   "outputs": [],
   "source": [
    "admissions_cond = pd.read_csv(\"../data/ipeds_admissions_2017_18.csv\")"
   ]
  },
  {
   "cell_type": "code",
   "execution_count": 9,
   "metadata": {
    "scrolled": true
   },
   "outputs": [
    {
     "data": {
      "text/html": [
       "<div>\n",
       "<style scoped>\n",
       "    .dataframe tbody tr th:only-of-type {\n",
       "        vertical-align: middle;\n",
       "    }\n",
       "\n",
       "    .dataframe tbody tr th {\n",
       "        vertical-align: top;\n",
       "    }\n",
       "\n",
       "    .dataframe thead th {\n",
       "        text-align: right;\n",
       "    }\n",
       "</style>\n",
       "<table border=\"1\" class=\"dataframe\">\n",
       "  <thead>\n",
       "    <tr style=\"text-align: right;\">\n",
       "      <th></th>\n",
       "      <th>school_id</th>\n",
       "      <th>cond_gpa</th>\n",
       "      <th>cond_two_rank</th>\n",
       "      <th>cond_three_record</th>\n",
       "      <th>cond_college_prep</th>\n",
       "      <th>cond_recommend</th>\n",
       "      <th>cond_demo_comp</th>\n",
       "      <th>cond_test_scores</th>\n",
       "      <th>cond_toefl</th>\n",
       "      <th>cond_other_test</th>\n",
       "      <th>...</th>\n",
       "      <th>sat_verb_25</th>\n",
       "      <th>sat_verb_75</th>\n",
       "      <th>sat_math_25</th>\n",
       "      <th>sat_math_75</th>\n",
       "      <th>act_comp_25</th>\n",
       "      <th>act_comp_75</th>\n",
       "      <th>act_eng_25</th>\n",
       "      <th>act_eng_75</th>\n",
       "      <th>act_math_25</th>\n",
       "      <th>act_math_75</th>\n",
       "    </tr>\n",
       "  </thead>\n",
       "  <tbody>\n",
       "    <tr>\n",
       "      <td>0</td>\n",
       "      <td>100654</td>\n",
       "      <td>1</td>\n",
       "      <td>2</td>\n",
       "      <td>1</td>\n",
       "      <td>2</td>\n",
       "      <td>3</td>\n",
       "      <td>2</td>\n",
       "      <td>1</td>\n",
       "      <td>1</td>\n",
       "      <td>3</td>\n",
       "      <td>...</td>\n",
       "      <td>365.0</td>\n",
       "      <td>485.0</td>\n",
       "      <td>360.0</td>\n",
       "      <td>495.0</td>\n",
       "      <td>16.0</td>\n",
       "      <td>19.0</td>\n",
       "      <td>14.0</td>\n",
       "      <td>20.0</td>\n",
       "      <td>15.0</td>\n",
       "      <td>18.0</td>\n",
       "    </tr>\n",
       "    <tr>\n",
       "      <td>1</td>\n",
       "      <td>100663</td>\n",
       "      <td>1</td>\n",
       "      <td>3</td>\n",
       "      <td>1</td>\n",
       "      <td>1</td>\n",
       "      <td>3</td>\n",
       "      <td>3</td>\n",
       "      <td>1</td>\n",
       "      <td>3</td>\n",
       "      <td>3</td>\n",
       "      <td>...</td>\n",
       "      <td>440.0</td>\n",
       "      <td>630.0</td>\n",
       "      <td>550.0</td>\n",
       "      <td>740.0</td>\n",
       "      <td>21.0</td>\n",
       "      <td>28.0</td>\n",
       "      <td>22.0</td>\n",
       "      <td>31.0</td>\n",
       "      <td>21.0</td>\n",
       "      <td>26.0</td>\n",
       "    </tr>\n",
       "    <tr>\n",
       "      <td>2</td>\n",
       "      <td>100706</td>\n",
       "      <td>1</td>\n",
       "      <td>2</td>\n",
       "      <td>1</td>\n",
       "      <td>1</td>\n",
       "      <td>3</td>\n",
       "      <td>2</td>\n",
       "      <td>1</td>\n",
       "      <td>1</td>\n",
       "      <td>3</td>\n",
       "      <td>...</td>\n",
       "      <td>550.0</td>\n",
       "      <td>660.0</td>\n",
       "      <td>530.0</td>\n",
       "      <td>670.0</td>\n",
       "      <td>25.0</td>\n",
       "      <td>31.0</td>\n",
       "      <td>25.0</td>\n",
       "      <td>33.0</td>\n",
       "      <td>24.0</td>\n",
       "      <td>29.0</td>\n",
       "    </tr>\n",
       "  </tbody>\n",
       "</table>\n",
       "<p>3 rows × 39 columns</p>\n",
       "</div>"
      ],
      "text/plain": [
       "   school_id  cond_gpa  cond_two_rank  cond_three_record  cond_college_prep  \\\n",
       "0     100654         1              2                  1                  2   \n",
       "1     100663         1              3                  1                  1   \n",
       "2     100706         1              2                  1                  1   \n",
       "\n",
       "   cond_recommend  cond_demo_comp  cond_test_scores  cond_toefl  \\\n",
       "0               3               2                 1           1   \n",
       "1               3               3                 1           3   \n",
       "2               3               2                 1           1   \n",
       "\n",
       "   cond_other_test  ...  sat_verb_25  sat_verb_75  sat_math_25  sat_math_75  \\\n",
       "0                3  ...        365.0        485.0        360.0        495.0   \n",
       "1                3  ...        440.0        630.0        550.0        740.0   \n",
       "2                3  ...        550.0        660.0        530.0        670.0   \n",
       "\n",
       "   act_comp_25  act_comp_75  act_eng_25  act_eng_75  act_math_25  act_math_75  \n",
       "0         16.0         19.0        14.0        20.0         15.0         18.0  \n",
       "1         21.0         28.0        22.0        31.0         21.0         26.0  \n",
       "2         25.0         31.0        25.0        33.0         24.0         29.0  \n",
       "\n",
       "[3 rows x 39 columns]"
      ]
     },
     "execution_count": 9,
     "metadata": {},
     "output_type": "execute_result"
    }
   ],
   "source": [
    "admissions_cond.head(3)"
   ]
  },
  {
   "cell_type": "markdown",
   "metadata": {},
   "source": [
    "## What these \"conditions\" codes mean:\n",
    "- 1 = Required\n",
    "- 2 = Considered but not Required\n",
    "- 3 = Recommended\n",
    "- 4 = Neither Required nor Recommended\n",
    "- 5 = Not Reported"
   ]
  },
  {
   "cell_type": "code",
   "execution_count": 10,
   "metadata": {
    "scrolled": true
   },
   "outputs": [
    {
     "data": {
      "text/plain": [
       "1    1212\n",
       "3     441\n",
       "2     279\n",
       "5     143\n",
       "Name: cond_test_scores, dtype: int64"
      ]
     },
     "execution_count": 10,
     "metadata": {},
     "output_type": "execute_result"
    }
   ],
   "source": [
    "admissions_cond['cond_test_scores'].value_counts()"
   ]
  },
  {
   "cell_type": "markdown",
   "metadata": {},
   "source": [
    "### Number of schools (out of 2075) that:\n",
    "- REQUIRE standardized test scores 1212\n",
    "- CONSIDERED but NOT REQUIRED 279\n",
    "- RECOMMENDED 441\n",
    "- TOTAL of these is 1932 (93%)"
   ]
  },
  {
   "cell_type": "code",
   "execution_count": 11,
   "metadata": {
    "scrolled": true
   },
   "outputs": [
    {
     "data": {
      "text/plain": [
       "1    1557\n",
       "3     266\n",
       "2     193\n",
       "5      59\n",
       "Name: cond_gpa, dtype: int64"
      ]
     },
     "execution_count": 11,
     "metadata": {},
     "output_type": "execute_result"
    }
   ],
   "source": [
    "## How many options in entrance considerations? How many schools stress each the most out of 7153 schools.\n",
    "admissions_cond['cond_gpa'].value_counts()"
   ]
  },
  {
   "cell_type": "code",
   "execution_count": 12,
   "metadata": {
    "scrolled": true
   },
   "outputs": [
    {
     "data": {
      "text/plain": [
       "2    821\n",
       "1    622\n",
       "3    559\n",
       "5     73\n",
       "Name: cond_college_prep, dtype: int64"
      ]
     },
     "execution_count": 12,
     "metadata": {},
     "output_type": "execute_result"
    }
   ],
   "source": [
    "admissions_cond['cond_college_prep'].value_counts()"
   ]
  },
  {
   "cell_type": "markdown",
   "metadata": {},
   "source": [
    "## Added columns for sat_comp_25 and sat_comp_75  as these were not in database"
   ]
  },
  {
   "cell_type": "code",
   "execution_count": 13,
   "metadata": {
    "scrolled": true
   },
   "outputs": [],
   "source": [
    "admissions_cond['sat_comp_25'] = admissions_cond['sat_verb_25'] + admissions_cond['sat_math_25']\n",
    "admissions_cond['sat_comp_75'] = admissions_cond['sat_verb_75'] + admissions_cond['sat_math_75']"
   ]
  },
  {
   "cell_type": "markdown",
   "metadata": {},
   "source": [
    "## Some EDA on this dataset"
   ]
  },
  {
   "cell_type": "code",
   "execution_count": 14,
   "metadata": {
    "scrolled": true
   },
   "outputs": [
    {
     "data": {
      "text/plain": [
       "(2075, 41)"
      ]
     },
     "execution_count": 14,
     "metadata": {},
     "output_type": "execute_result"
    }
   ],
   "source": [
    "## look at shape\n",
    "admissions_cond.shape"
   ]
  },
  {
   "cell_type": "code",
   "execution_count": 15,
   "metadata": {
    "scrolled": true
   },
   "outputs": [],
   "source": [
    "## look at nulls\n",
    "#admissions_cond.isna().sum()"
   ]
  },
  {
   "cell_type": "markdown",
   "metadata": {},
   "source": [
    "## Read in derived admissions stats"
   ]
  },
  {
   "cell_type": "code",
   "execution_count": 16,
   "metadata": {
    "scrolled": true
   },
   "outputs": [],
   "source": [
    "admissions_derived = pd.read_csv(\"../data/ipeds_derived_admiss_stats_2017.csv\")"
   ]
  },
  {
   "cell_type": "code",
   "execution_count": 17,
   "metadata": {
    "scrolled": true
   },
   "outputs": [
    {
     "data": {
      "text/html": [
       "<div>\n",
       "<style scoped>\n",
       "    .dataframe tbody tr th:only-of-type {\n",
       "        vertical-align: middle;\n",
       "    }\n",
       "\n",
       "    .dataframe tbody tr th {\n",
       "        vertical-align: top;\n",
       "    }\n",
       "\n",
       "    .dataframe thead th {\n",
       "        text-align: right;\n",
       "    }\n",
       "</style>\n",
       "<table border=\"1\" class=\"dataframe\">\n",
       "  <thead>\n",
       "    <tr style=\"text-align: right;\">\n",
       "      <th></th>\n",
       "      <th>school_id</th>\n",
       "      <th>perc_admit_total</th>\n",
       "      <th>perc_admit_men</th>\n",
       "      <th>perc_admit_women</th>\n",
       "      <th>admit_yield_total</th>\n",
       "      <th>admit_yield_men</th>\n",
       "      <th>admit_yield_women</th>\n",
       "      <th>admit_yield_ft</th>\n",
       "      <th>yield_ft_men</th>\n",
       "      <th>yield_ft_women</th>\n",
       "      <th>admit_yield_pt</th>\n",
       "      <th>yield_pt_men</th>\n",
       "      <th>yield_pt_women</th>\n",
       "    </tr>\n",
       "  </thead>\n",
       "  <tbody>\n",
       "    <tr>\n",
       "      <td>0</td>\n",
       "      <td>100654</td>\n",
       "      <td>90</td>\n",
       "      <td>88.0</td>\n",
       "      <td>91.0</td>\n",
       "      <td>17.0</td>\n",
       "      <td>19.0</td>\n",
       "      <td>15.0</td>\n",
       "      <td>17.0</td>\n",
       "      <td>19.0</td>\n",
       "      <td>15.0</td>\n",
       "      <td>0.0</td>\n",
       "      <td>0.0</td>\n",
       "      <td>0.0</td>\n",
       "    </tr>\n",
       "    <tr>\n",
       "      <td>1</td>\n",
       "      <td>100663</td>\n",
       "      <td>92</td>\n",
       "      <td>91.0</td>\n",
       "      <td>92.0</td>\n",
       "      <td>33.0</td>\n",
       "      <td>35.0</td>\n",
       "      <td>32.0</td>\n",
       "      <td>32.0</td>\n",
       "      <td>33.0</td>\n",
       "      <td>31.0</td>\n",
       "      <td>1.0</td>\n",
       "      <td>1.0</td>\n",
       "      <td>1.0</td>\n",
       "    </tr>\n",
       "    <tr>\n",
       "      <td>2</td>\n",
       "      <td>100706</td>\n",
       "      <td>81</td>\n",
       "      <td>84.0</td>\n",
       "      <td>77.0</td>\n",
       "      <td>37.0</td>\n",
       "      <td>42.0</td>\n",
       "      <td>32.0</td>\n",
       "      <td>37.0</td>\n",
       "      <td>41.0</td>\n",
       "      <td>31.0</td>\n",
       "      <td>0.0</td>\n",
       "      <td>0.0</td>\n",
       "      <td>0.0</td>\n",
       "    </tr>\n",
       "  </tbody>\n",
       "</table>\n",
       "</div>"
      ],
      "text/plain": [
       "   school_id  perc_admit_total  perc_admit_men  perc_admit_women  \\\n",
       "0     100654                90            88.0              91.0   \n",
       "1     100663                92            91.0              92.0   \n",
       "2     100706                81            84.0              77.0   \n",
       "\n",
       "   admit_yield_total  admit_yield_men  admit_yield_women  admit_yield_ft  \\\n",
       "0               17.0             19.0               15.0            17.0   \n",
       "1               33.0             35.0               32.0            32.0   \n",
       "2               37.0             42.0               32.0            37.0   \n",
       "\n",
       "   yield_ft_men  yield_ft_women  admit_yield_pt  yield_pt_men  yield_pt_women  \n",
       "0          19.0            15.0             0.0           0.0             0.0  \n",
       "1          33.0            31.0             1.0           1.0             1.0  \n",
       "2          41.0            31.0             0.0           0.0             0.0  "
      ]
     },
     "execution_count": 17,
     "metadata": {},
     "output_type": "execute_result"
    }
   ],
   "source": [
    "admissions_derived.head(3)"
   ]
  },
  {
   "cell_type": "code",
   "execution_count": 18,
   "metadata": {
    "scrolled": true
   },
   "outputs": [
    {
     "data": {
      "text/plain": [
       "(2047, 13)"
      ]
     },
     "execution_count": 18,
     "metadata": {},
     "output_type": "execute_result"
    }
   ],
   "source": [
    "admissions_derived.shape"
   ]
  },
  {
   "cell_type": "code",
   "execution_count": 19,
   "metadata": {
    "scrolled": true
   },
   "outputs": [
    {
     "data": {
      "text/plain": [
       "Text(0.5, 1.0, 'Percentage of Applicants Accepted')"
      ]
     },
     "execution_count": 19,
     "metadata": {},
     "output_type": "execute_result"
    },
    {
     "data": {
      "image/png": "[encoded data removed]",
      "text/plain": [
       "<Figure size 576x576 with 1 Axes>"
      ]
     },
     "metadata": {
      "needs_background": "light"
     },
     "output_type": "display_data"
    }
   ],
   "source": [
    "## Histgram of percent admitted\n",
    "plt.figure(figsize=(8,8))\n",
    "admissions_derived['perc_admit_total'].hist(bins=20)\n",
    "\n",
    "\n",
    "plt.title('Percentage of Applicants Accepted')"
   ]
  },
  {
   "cell_type": "code",
   "execution_count": 20,
   "metadata": {
    "scrolled": true
   },
   "outputs": [
    {
     "data": {
      "text/plain": [
       "Text(0.5, 1.0, 'Percentage of Accepted that Enrolled')"
      ]
     },
     "execution_count": 20,
     "metadata": {},
     "output_type": "execute_result"
    },
    {
     "data": {
      "image/png": "[encoded data removed]",
      "text/plain": [
       "<Figure size 576x576 with 1 Axes>"
      ]
     },
     "metadata": {
      "needs_background": "light"
     },
     "output_type": "display_data"
    }
   ],
   "source": [
    "## Histgram of percent enrolled\n",
    "plt.figure(figsize=(8, 8))\n",
    "admissions_derived['admit_yield_total'].hist(bins=20)\n",
    "plt.xlabel='Percentage Enrolled'\n",
    "plt.ylabel='Count of Schools'\n",
    "plt.title('Percentage of Accepted that Enrolled')"
   ]
  },
  {
   "cell_type": "code",
   "execution_count": 21,
   "metadata": {
    "scrolled": true
   },
   "outputs": [
    {
     "data": {
      "image/png": "[encoded data removed]",
      "text/plain": [
       "<Figure size 576x576 with 1 Axes>"
      ]
     },
     "metadata": {
      "needs_background": "light"
     },
     "output_type": "display_data"
    }
   ],
   "source": [
    "##Scatter Plot of Total Students accepted vs. enrolled\n",
    "plt.figure(figsize=(8, 8))\n",
    "plt.scatter('perc_admit_total', 'admit_yield_total', data = admissions_derived, c='orange')\n",
    "#plt.xlabel('% Total Admitted')\n",
    "#plt.ylabel('% Total Enrolled')\n",
    "plt.title('Percentage of Students Accepted vs. Enrolled', color = 'black');"
   ]
  },
  {
   "cell_type": "code",
   "execution_count": 22,
   "metadata": {
    "scrolled": true
   },
   "outputs": [
    {
     "data": {
      "image/png": "[encoded data removed]",
      "text/plain": [
       "<Figure size 576x576 with 1 Axes>"
      ]
     },
     "metadata": {
      "needs_background": "light"
     },
     "output_type": "display_data"
    }
   ],
   "source": [
    "##Scatter Plot of Women accepted vs. enrolled\n",
    "plt.figure(figsize=(8, 8))\n",
    "plt.scatter('perc_admit_women', 'admit_yield_women', data = admissions_derived, c='palevioletred')\n",
    "#plt.xlabel('% Women Admitted')\n",
    "#plt.ylabel('% Women Enrolled')\n",
    "plt.title('Percentage of Women Accepted vs. Enrolled', color = 'black');"
   ]
  },
  {
   "cell_type": "code",
   "execution_count": 23,
   "metadata": {
    "scrolled": true
   },
   "outputs": [
    {
     "data": {
      "image/png": "[encoded data removed]",
      "text/plain": [
       "<Figure size 576x576 with 1 Axes>"
      ]
     },
     "metadata": {
      "needs_background": "light"
     },
     "output_type": "display_data"
    }
   ],
   "source": [
    "##Scatter Plot of Men accepted vs. enrolled\n",
    "plt.figure(figsize=(8, 8))\n",
    "plt.scatter('perc_admit_men', 'admit_yield_men', data = admissions_derived)\n",
    "#plt.xlabel('% Men Admitted')\n",
    "#plt.ylabel('% Men Enrolled')\n",
    "plt.title('Percentage of Men Accepted vs. Enrolled', color = 'black');"
   ]
  },
  {
   "cell_type": "markdown",
   "metadata": {},
   "source": [
    "## Schools that accept less than 35% of applicants..."
   ]
  },
  {
   "cell_type": "code",
   "execution_count": 24,
   "metadata": {
    "scrolled": true
   },
   "outputs": [],
   "source": [
    "## Some shools had zero acceptance so I filtered these out.\n",
    "hi_selective_schools = admissions_derived.loc[(admissions_derived['perc_admit_total'] < 35) & (admissions_derived['perc_admit_total'] != 0)]"
   ]
  },
  {
   "cell_type": "code",
   "execution_count": 25,
   "metadata": {
    "scrolled": true
   },
   "outputs": [
    {
     "data": {
      "text/plain": [
       "(152, 13)"
      ]
     },
     "execution_count": 25,
     "metadata": {},
     "output_type": "execute_result"
    }
   ],
   "source": [
    "hi_selective_schools.shape"
   ]
  },
  {
   "cell_type": "code",
   "execution_count": 26,
   "metadata": {
    "scrolled": true
   },
   "outputs": [
    {
     "data": {
      "text/html": [
       "<div>\n",
       "<style scoped>\n",
       "    .dataframe tbody tr th:only-of-type {\n",
       "        vertical-align: middle;\n",
       "    }\n",
       "\n",
       "    .dataframe tbody tr th {\n",
       "        vertical-align: top;\n",
       "    }\n",
       "\n",
       "    .dataframe thead th {\n",
       "        text-align: right;\n",
       "    }\n",
       "</style>\n",
       "<table border=\"1\" class=\"dataframe\">\n",
       "  <thead>\n",
       "    <tr style=\"text-align: right;\">\n",
       "      <th></th>\n",
       "      <th>school_id</th>\n",
       "      <th>perc_admit_total</th>\n",
       "      <th>perc_admit_men</th>\n",
       "      <th>perc_admit_women</th>\n",
       "      <th>admit_yield_total</th>\n",
       "      <th>admit_yield_men</th>\n",
       "      <th>admit_yield_women</th>\n",
       "      <th>admit_yield_ft</th>\n",
       "      <th>yield_ft_men</th>\n",
       "      <th>yield_ft_women</th>\n",
       "      <th>admit_yield_pt</th>\n",
       "      <th>yield_pt_men</th>\n",
       "      <th>yield_pt_women</th>\n",
       "    </tr>\n",
       "  </thead>\n",
       "  <tbody>\n",
       "    <tr>\n",
       "      <td>14</td>\n",
       "      <td>101587</td>\n",
       "      <td>28</td>\n",
       "      <td>30.0</td>\n",
       "      <td>27.0</td>\n",
       "      <td>22.0</td>\n",
       "      <td>23.0</td>\n",
       "      <td>21.0</td>\n",
       "      <td>22.0</td>\n",
       "      <td>23.0</td>\n",
       "      <td>21.0</td>\n",
       "      <td>0.0</td>\n",
       "      <td>0.0</td>\n",
       "      <td>0.0</td>\n",
       "    </tr>\n",
       "    <tr>\n",
       "      <td>64</td>\n",
       "      <td>110404</td>\n",
       "      <td>8</td>\n",
       "      <td>5.0</td>\n",
       "      <td>16.0</td>\n",
       "      <td>41.0</td>\n",
       "      <td>48.0</td>\n",
       "      <td>35.0</td>\n",
       "      <td>41.0</td>\n",
       "      <td>48.0</td>\n",
       "      <td>35.0</td>\n",
       "      <td>0.0</td>\n",
       "      <td>0.0</td>\n",
       "      <td>0.0</td>\n",
       "    </tr>\n",
       "    <tr>\n",
       "      <td>77</td>\n",
       "      <td>110583</td>\n",
       "      <td>28</td>\n",
       "      <td>27.0</td>\n",
       "      <td>29.0</td>\n",
       "      <td>23.0</td>\n",
       "      <td>24.0</td>\n",
       "      <td>23.0</td>\n",
       "      <td>23.0</td>\n",
       "      <td>23.0</td>\n",
       "      <td>23.0</td>\n",
       "      <td>0.0</td>\n",
       "      <td>1.0</td>\n",
       "      <td>0.0</td>\n",
       "    </tr>\n",
       "  </tbody>\n",
       "</table>\n",
       "</div>"
      ],
      "text/plain": [
       "    school_id  perc_admit_total  perc_admit_men  perc_admit_women  \\\n",
       "14     101587                28            30.0              27.0   \n",
       "64     110404                 8             5.0              16.0   \n",
       "77     110583                28            27.0              29.0   \n",
       "\n",
       "    admit_yield_total  admit_yield_men  admit_yield_women  admit_yield_ft  \\\n",
       "14               22.0             23.0               21.0            22.0   \n",
       "64               41.0             48.0               35.0            41.0   \n",
       "77               23.0             24.0               23.0            23.0   \n",
       "\n",
       "    yield_ft_men  yield_ft_women  admit_yield_pt  yield_pt_men  yield_pt_women  \n",
       "14          23.0            21.0             0.0           0.0             0.0  \n",
       "64          48.0            35.0             0.0           0.0             0.0  \n",
       "77          23.0            23.0             0.0           1.0             0.0  "
      ]
     },
     "execution_count": 26,
     "metadata": {},
     "output_type": "execute_result"
    }
   ],
   "source": [
    "hi_selective_schools.head(3)"
   ]
  },
  {
   "cell_type": "code",
   "execution_count": 27,
   "metadata": {
    "scrolled": true
   },
   "outputs": [
    {
     "data": {
      "text/html": [
       "<div>\n",
       "<style scoped>\n",
       "    .dataframe tbody tr th:only-of-type {\n",
       "        vertical-align: middle;\n",
       "    }\n",
       "\n",
       "    .dataframe tbody tr th {\n",
       "        vertical-align: top;\n",
       "    }\n",
       "\n",
       "    .dataframe thead th {\n",
       "        text-align: right;\n",
       "    }\n",
       "</style>\n",
       "<table border=\"1\" class=\"dataframe\">\n",
       "  <thead>\n",
       "    <tr style=\"text-align: right;\">\n",
       "      <th></th>\n",
       "      <th>school_id</th>\n",
       "      <th>perc_admit_total</th>\n",
       "      <th>perc_admit_men</th>\n",
       "      <th>perc_admit_women</th>\n",
       "      <th>admit_yield_total</th>\n",
       "      <th>admit_yield_men</th>\n",
       "      <th>admit_yield_women</th>\n",
       "      <th>admit_yield_ft</th>\n",
       "      <th>yield_ft_men</th>\n",
       "      <th>yield_ft_women</th>\n",
       "      <th>admit_yield_pt</th>\n",
       "      <th>yield_pt_men</th>\n",
       "      <th>yield_pt_women</th>\n",
       "    </tr>\n",
       "  </thead>\n",
       "  <tbody>\n",
       "    <tr>\n",
       "      <td>2012</td>\n",
       "      <td>487092</td>\n",
       "      <td>29</td>\n",
       "      <td>29.0</td>\n",
       "      <td>29.0</td>\n",
       "      <td>12.0</td>\n",
       "      <td>13.0</td>\n",
       "      <td>11.0</td>\n",
       "      <td>12.0</td>\n",
       "      <td>13.0</td>\n",
       "      <td>11.0</td>\n",
       "      <td>0.0</td>\n",
       "      <td>0.0</td>\n",
       "      <td>0.0</td>\n",
       "    </tr>\n",
       "    <tr>\n",
       "      <td>2026</td>\n",
       "      <td>488819</td>\n",
       "      <td>6</td>\n",
       "      <td>6.0</td>\n",
       "      <td>7.0</td>\n",
       "      <td>100.0</td>\n",
       "      <td>100.0</td>\n",
       "      <td>100.0</td>\n",
       "      <td>100.0</td>\n",
       "      <td>100.0</td>\n",
       "      <td>100.0</td>\n",
       "      <td>0.0</td>\n",
       "      <td>0.0</td>\n",
       "      <td>0.0</td>\n",
       "    </tr>\n",
       "    <tr>\n",
       "      <td>2028</td>\n",
       "      <td>489353</td>\n",
       "      <td>25</td>\n",
       "      <td>0.0</td>\n",
       "      <td>40.0</td>\n",
       "      <td>50.0</td>\n",
       "      <td>NaN</td>\n",
       "      <td>50.0</td>\n",
       "      <td>50.0</td>\n",
       "      <td>NaN</td>\n",
       "      <td>50.0</td>\n",
       "      <td>0.0</td>\n",
       "      <td>NaN</td>\n",
       "      <td>0.0</td>\n",
       "    </tr>\n",
       "  </tbody>\n",
       "</table>\n",
       "</div>"
      ],
      "text/plain": [
       "      school_id  perc_admit_total  perc_admit_men  perc_admit_women  \\\n",
       "2012     487092                29            29.0              29.0   \n",
       "2026     488819                 6             6.0               7.0   \n",
       "2028     489353                25             0.0              40.0   \n",
       "\n",
       "      admit_yield_total  admit_yield_men  admit_yield_women  admit_yield_ft  \\\n",
       "2012               12.0             13.0               11.0            12.0   \n",
       "2026              100.0            100.0              100.0           100.0   \n",
       "2028               50.0              NaN               50.0            50.0   \n",
       "\n",
       "      yield_ft_men  yield_ft_women  admit_yield_pt  yield_pt_men  \\\n",
       "2012          13.0            11.0             0.0           0.0   \n",
       "2026         100.0           100.0             0.0           0.0   \n",
       "2028           NaN            50.0             0.0           NaN   \n",
       "\n",
       "      yield_pt_women  \n",
       "2012             0.0  \n",
       "2026             0.0  \n",
       "2028             0.0  "
      ]
     },
     "execution_count": 27,
     "metadata": {},
     "output_type": "execute_result"
    }
   ],
   "source": [
    "hi_selective_schools.tail(3)"
   ]
  },
  {
   "cell_type": "markdown",
   "metadata": {},
   "source": [
    "## Merge with basic school directory info so we have school name and loction..."
   ]
  },
  {
   "cell_type": "code",
   "execution_count": 28,
   "metadata": {
    "scrolled": true
   },
   "outputs": [],
   "source": [
    "## create subset of directory dataframe with just name and location\n",
    "basic_school_info = directory[['school_id', 'institution_name', 'address', 'city', 'state_abbr', 'zipcode']]"
   ]
  },
  {
   "cell_type": "code",
   "execution_count": 29,
   "metadata": {
    "scrolled": true
   },
   "outputs": [
    {
     "data": {
      "text/html": [
       "<div>\n",
       "<style scoped>\n",
       "    .dataframe tbody tr th:only-of-type {\n",
       "        vertical-align: middle;\n",
       "    }\n",
       "\n",
       "    .dataframe tbody tr th {\n",
       "        vertical-align: top;\n",
       "    }\n",
       "\n",
       "    .dataframe thead th {\n",
       "        text-align: right;\n",
       "    }\n",
       "</style>\n",
       "<table border=\"1\" class=\"dataframe\">\n",
       "  <thead>\n",
       "    <tr style=\"text-align: right;\">\n",
       "      <th></th>\n",
       "      <th>school_id</th>\n",
       "      <th>institution_name</th>\n",
       "      <th>address</th>\n",
       "      <th>city</th>\n",
       "      <th>state_abbr</th>\n",
       "      <th>zipcode</th>\n",
       "    </tr>\n",
       "  </thead>\n",
       "  <tbody>\n",
       "    <tr>\n",
       "      <td>0</td>\n",
       "      <td>100654</td>\n",
       "      <td>Alabama A &amp; M University</td>\n",
       "      <td>4900 Meridian Street</td>\n",
       "      <td>Normal</td>\n",
       "      <td>AL</td>\n",
       "      <td>35762</td>\n",
       "    </tr>\n",
       "    <tr>\n",
       "      <td>1</td>\n",
       "      <td>100663</td>\n",
       "      <td>University of Alabama at Birmingham</td>\n",
       "      <td>Administration Bldg Suite 1070</td>\n",
       "      <td>Birmingham</td>\n",
       "      <td>AL</td>\n",
       "      <td>35294-0110</td>\n",
       "    </tr>\n",
       "    <tr>\n",
       "      <td>2</td>\n",
       "      <td>100690</td>\n",
       "      <td>Amridge University</td>\n",
       "      <td>1200 Taylor Rd</td>\n",
       "      <td>Montgomery</td>\n",
       "      <td>AL</td>\n",
       "      <td>36117-3553</td>\n",
       "    </tr>\n",
       "  </tbody>\n",
       "</table>\n",
       "</div>"
      ],
      "text/plain": [
       "   school_id                     institution_name  \\\n",
       "0     100654             Alabama A & M University   \n",
       "1     100663  University of Alabama at Birmingham   \n",
       "2     100690                   Amridge University   \n",
       "\n",
       "                          address        city state_abbr     zipcode  \n",
       "0            4900 Meridian Street      Normal         AL       35762  \n",
       "1  Administration Bldg Suite 1070  Birmingham         AL  35294-0110  \n",
       "2                  1200 Taylor Rd  Montgomery         AL  36117-3553  "
      ]
     },
     "execution_count": 29,
     "metadata": {},
     "output_type": "execute_result"
    }
   ],
   "source": [
    "basic_school_info.head(3)"
   ]
  },
  {
   "cell_type": "code",
   "execution_count": 30,
   "metadata": {
    "scrolled": true
   },
   "outputs": [],
   "source": [
    "## merge with hi_selective_schools\n",
    "hi_selective_schools = pd.merge(basic_school_info, hi_selective_schools, how = 'right', on = 'school_id')"
   ]
  },
  {
   "cell_type": "code",
   "execution_count": 31,
   "metadata": {
    "scrolled": true
   },
   "outputs": [
    {
     "data": {
      "text/html": [
       "<div>\n",
       "<style scoped>\n",
       "    .dataframe tbody tr th:only-of-type {\n",
       "        vertical-align: middle;\n",
       "    }\n",
       "\n",
       "    .dataframe tbody tr th {\n",
       "        vertical-align: top;\n",
       "    }\n",
       "\n",
       "    .dataframe thead th {\n",
       "        text-align: right;\n",
       "    }\n",
       "</style>\n",
       "<table border=\"1\" class=\"dataframe\">\n",
       "  <thead>\n",
       "    <tr style=\"text-align: right;\">\n",
       "      <th></th>\n",
       "      <th>school_id</th>\n",
       "      <th>institution_name</th>\n",
       "      <th>address</th>\n",
       "      <th>city</th>\n",
       "      <th>state_abbr</th>\n",
       "      <th>zipcode</th>\n",
       "      <th>perc_admit_total</th>\n",
       "      <th>perc_admit_men</th>\n",
       "      <th>perc_admit_women</th>\n",
       "      <th>admit_yield_total</th>\n",
       "      <th>admit_yield_men</th>\n",
       "      <th>admit_yield_women</th>\n",
       "      <th>admit_yield_ft</th>\n",
       "      <th>yield_ft_men</th>\n",
       "      <th>yield_ft_women</th>\n",
       "      <th>admit_yield_pt</th>\n",
       "      <th>yield_pt_men</th>\n",
       "      <th>yield_pt_women</th>\n",
       "    </tr>\n",
       "  </thead>\n",
       "  <tbody>\n",
       "    <tr>\n",
       "      <td>0</td>\n",
       "      <td>101587</td>\n",
       "      <td>University of West Alabama</td>\n",
       "      <td>Station One</td>\n",
       "      <td>Livingston</td>\n",
       "      <td>AL</td>\n",
       "      <td>35470</td>\n",
       "      <td>28</td>\n",
       "      <td>30.0</td>\n",
       "      <td>27.0</td>\n",
       "      <td>22.0</td>\n",
       "      <td>23.0</td>\n",
       "      <td>21.0</td>\n",
       "      <td>22.0</td>\n",
       "      <td>23.0</td>\n",
       "      <td>21.0</td>\n",
       "      <td>0.0</td>\n",
       "      <td>0.0</td>\n",
       "      <td>0.0</td>\n",
       "    </tr>\n",
       "    <tr>\n",
       "      <td>1</td>\n",
       "      <td>110404</td>\n",
       "      <td>California Institute of Technology</td>\n",
       "      <td>1200 E California Blvd</td>\n",
       "      <td>Pasadena</td>\n",
       "      <td>CA</td>\n",
       "      <td>91125</td>\n",
       "      <td>8</td>\n",
       "      <td>5.0</td>\n",
       "      <td>16.0</td>\n",
       "      <td>41.0</td>\n",
       "      <td>48.0</td>\n",
       "      <td>35.0</td>\n",
       "      <td>41.0</td>\n",
       "      <td>48.0</td>\n",
       "      <td>35.0</td>\n",
       "      <td>0.0</td>\n",
       "      <td>0.0</td>\n",
       "      <td>0.0</td>\n",
       "    </tr>\n",
       "    <tr>\n",
       "      <td>2</td>\n",
       "      <td>110583</td>\n",
       "      <td>California State University-Long Beach</td>\n",
       "      <td>1250 Bellflower Blvd</td>\n",
       "      <td>Long Beach</td>\n",
       "      <td>CA</td>\n",
       "      <td>90840-0115</td>\n",
       "      <td>28</td>\n",
       "      <td>27.0</td>\n",
       "      <td>29.0</td>\n",
       "      <td>23.0</td>\n",
       "      <td>24.0</td>\n",
       "      <td>23.0</td>\n",
       "      <td>23.0</td>\n",
       "      <td>23.0</td>\n",
       "      <td>23.0</td>\n",
       "      <td>0.0</td>\n",
       "      <td>1.0</td>\n",
       "      <td>0.0</td>\n",
       "    </tr>\n",
       "  </tbody>\n",
       "</table>\n",
       "</div>"
      ],
      "text/plain": [
       "   school_id                        institution_name                 address  \\\n",
       "0     101587              University of West Alabama             Station One   \n",
       "1     110404      California Institute of Technology  1200 E California Blvd   \n",
       "2     110583  California State University-Long Beach    1250 Bellflower Blvd   \n",
       "\n",
       "         city state_abbr     zipcode  perc_admit_total  perc_admit_men  \\\n",
       "0  Livingston         AL       35470                28            30.0   \n",
       "1    Pasadena         CA       91125                 8             5.0   \n",
       "2  Long Beach         CA  90840-0115                28            27.0   \n",
       "\n",
       "   perc_admit_women  admit_yield_total  admit_yield_men  admit_yield_women  \\\n",
       "0              27.0               22.0             23.0               21.0   \n",
       "1              16.0               41.0             48.0               35.0   \n",
       "2              29.0               23.0             24.0               23.0   \n",
       "\n",
       "   admit_yield_ft  yield_ft_men  yield_ft_women  admit_yield_pt  yield_pt_men  \\\n",
       "0            22.0          23.0            21.0             0.0           0.0   \n",
       "1            41.0          48.0            35.0             0.0           0.0   \n",
       "2            23.0          23.0            23.0             0.0           1.0   \n",
       "\n",
       "   yield_pt_women  \n",
       "0             0.0  \n",
       "1             0.0  \n",
       "2             0.0  "
      ]
     },
     "execution_count": 31,
     "metadata": {},
     "output_type": "execute_result"
    }
   ],
   "source": [
    "hi_selective_schools.head(3)"
   ]
  },
  {
   "cell_type": "code",
   "execution_count": 32,
   "metadata": {
    "scrolled": true
   },
   "outputs": [
    {
     "data": {
      "text/html": [
       "<div>\n",
       "<style scoped>\n",
       "    .dataframe tbody tr th:only-of-type {\n",
       "        vertical-align: middle;\n",
       "    }\n",
       "\n",
       "    .dataframe tbody tr th {\n",
       "        vertical-align: top;\n",
       "    }\n",
       "\n",
       "    .dataframe thead th {\n",
       "        text-align: right;\n",
       "    }\n",
       "</style>\n",
       "<table border=\"1\" class=\"dataframe\">\n",
       "  <thead>\n",
       "    <tr style=\"text-align: right;\">\n",
       "      <th></th>\n",
       "      <th>school_id</th>\n",
       "      <th>institution_name</th>\n",
       "      <th>address</th>\n",
       "      <th>city</th>\n",
       "      <th>state_abbr</th>\n",
       "      <th>zipcode</th>\n",
       "      <th>perc_admit_total</th>\n",
       "      <th>perc_admit_men</th>\n",
       "      <th>perc_admit_women</th>\n",
       "      <th>admit_yield_total</th>\n",
       "      <th>admit_yield_men</th>\n",
       "      <th>admit_yield_women</th>\n",
       "      <th>admit_yield_ft</th>\n",
       "      <th>yield_ft_men</th>\n",
       "      <th>yield_ft_women</th>\n",
       "      <th>admit_yield_pt</th>\n",
       "      <th>yield_pt_men</th>\n",
       "      <th>yield_pt_women</th>\n",
       "    </tr>\n",
       "  </thead>\n",
       "  <tbody>\n",
       "    <tr>\n",
       "      <td>149</td>\n",
       "      <td>487092</td>\n",
       "      <td>Emory University-Oxford College</td>\n",
       "      <td>801 Emory Street</td>\n",
       "      <td>Oxford</td>\n",
       "      <td>GA</td>\n",
       "      <td>30054</td>\n",
       "      <td>29</td>\n",
       "      <td>29.0</td>\n",
       "      <td>29.0</td>\n",
       "      <td>12.0</td>\n",
       "      <td>13.0</td>\n",
       "      <td>11.0</td>\n",
       "      <td>12.0</td>\n",
       "      <td>13.0</td>\n",
       "      <td>11.0</td>\n",
       "      <td>0.0</td>\n",
       "      <td>0.0</td>\n",
       "      <td>0.0</td>\n",
       "    </tr>\n",
       "    <tr>\n",
       "      <td>150</td>\n",
       "      <td>488819</td>\n",
       "      <td>The Colburn Conservatory of Music</td>\n",
       "      <td>200 S. Grand Avenue</td>\n",
       "      <td>Los Angeles</td>\n",
       "      <td>CA</td>\n",
       "      <td>90012</td>\n",
       "      <td>6</td>\n",
       "      <td>6.0</td>\n",
       "      <td>7.0</td>\n",
       "      <td>100.0</td>\n",
       "      <td>100.0</td>\n",
       "      <td>100.0</td>\n",
       "      <td>100.0</td>\n",
       "      <td>100.0</td>\n",
       "      <td>100.0</td>\n",
       "      <td>0.0</td>\n",
       "      <td>0.0</td>\n",
       "      <td>0.0</td>\n",
       "    </tr>\n",
       "    <tr>\n",
       "      <td>151</td>\n",
       "      <td>489353</td>\n",
       "      <td>Chamberlain University-California</td>\n",
       "      <td>10971 Sun Center</td>\n",
       "      <td>Rancho Cordova</td>\n",
       "      <td>CA</td>\n",
       "      <td>95670</td>\n",
       "      <td>25</td>\n",
       "      <td>0.0</td>\n",
       "      <td>40.0</td>\n",
       "      <td>50.0</td>\n",
       "      <td>NaN</td>\n",
       "      <td>50.0</td>\n",
       "      <td>50.0</td>\n",
       "      <td>NaN</td>\n",
       "      <td>50.0</td>\n",
       "      <td>0.0</td>\n",
       "      <td>NaN</td>\n",
       "      <td>0.0</td>\n",
       "    </tr>\n",
       "  </tbody>\n",
       "</table>\n",
       "</div>"
      ],
      "text/plain": [
       "     school_id                   institution_name              address  \\\n",
       "149     487092    Emory University-Oxford College     801 Emory Street   \n",
       "150     488819  The Colburn Conservatory of Music  200 S. Grand Avenue   \n",
       "151     489353  Chamberlain University-California     10971 Sun Center   \n",
       "\n",
       "               city state_abbr zipcode  perc_admit_total  perc_admit_men  \\\n",
       "149          Oxford         GA   30054                29            29.0   \n",
       "150     Los Angeles         CA   90012                 6             6.0   \n",
       "151  Rancho Cordova         CA   95670                25             0.0   \n",
       "\n",
       "     perc_admit_women  admit_yield_total  admit_yield_men  admit_yield_women  \\\n",
       "149              29.0               12.0             13.0               11.0   \n",
       "150               7.0              100.0            100.0              100.0   \n",
       "151              40.0               50.0              NaN               50.0   \n",
       "\n",
       "     admit_yield_ft  yield_ft_men  yield_ft_women  admit_yield_pt  \\\n",
       "149            12.0          13.0            11.0             0.0   \n",
       "150           100.0         100.0           100.0             0.0   \n",
       "151            50.0           NaN            50.0             0.0   \n",
       "\n",
       "     yield_pt_men  yield_pt_women  \n",
       "149           0.0             0.0  \n",
       "150           0.0             0.0  \n",
       "151           NaN             0.0  "
      ]
     },
     "execution_count": 32,
     "metadata": {},
     "output_type": "execute_result"
    }
   ],
   "source": [
    "hi_selective_schools.tail(3)"
   ]
  },
  {
   "cell_type": "code",
   "execution_count": 33,
   "metadata": {
    "scrolled": true
   },
   "outputs": [
    {
     "data": {
      "text/plain": [
       "(152, 18)"
      ]
     },
     "execution_count": 33,
     "metadata": {},
     "output_type": "execute_result"
    }
   ],
   "source": [
    "hi_selective_schools.shape"
   ]
  },
  {
   "cell_type": "code",
   "execution_count": null,
   "metadata": {
    "scrolled": true
   },
   "outputs": [],
   "source": []
  },
  {
   "cell_type": "markdown",
   "metadata": {},
   "source": [
    "## Website used for highly selective school criteria. Used second category to pull first two groups of schools.\n",
    "https://www.collegetransitions.com/college-selectivity/#:~:text=EXTREMELY%20SELECTIVE%20colleges%20accept%20fewer,score%20of%20at%20least%201340."
   ]
  },
  {
   "cell_type": "markdown",
   "metadata": {},
   "source": [
    "## Define \"highly selective\" as all schools that meet these conditions: \n",
    "- Accept fewer than 35% of all applicants,\n",
    "- AND possess an average composite ACT (25%tile) score of at least 29 \n",
    "- OR an average combined SAT (25%tile) score of at least 1340."
   ]
  },
  {
   "cell_type": "code",
   "execution_count": 34,
   "metadata": {
    "scrolled": true
   },
   "outputs": [],
   "source": [
    "test_scores = admissions_cond[['school_id', 'sat_comp_25', 'sat_comp_75','sat_verb_25', 'sat_verb_75', 'sat_math_25', 'sat_math_75', \n",
    "                              'act_comp_25', 'act_comp_75', 'act_eng_25', 'act_eng_75', 'act_math_25', 'act_math_75']]"
   ]
  },
  {
   "cell_type": "markdown",
   "metadata": {},
   "source": [
    "### Merge in the test score data"
   ]
  },
  {
   "cell_type": "code",
   "execution_count": 35,
   "metadata": {
    "scrolled": true
   },
   "outputs": [],
   "source": [
    "hi_selective_schools = pd.merge(hi_selective_schools, test_scores, how = 'left', on = 'school_id')"
   ]
  },
  {
   "cell_type": "code",
   "execution_count": 36,
   "metadata": {
    "scrolled": true
   },
   "outputs": [
    {
     "data": {
      "text/html": [
       "<div>\n",
       "<style scoped>\n",
       "    .dataframe tbody tr th:only-of-type {\n",
       "        vertical-align: middle;\n",
       "    }\n",
       "\n",
       "    .dataframe tbody tr th {\n",
       "        vertical-align: top;\n",
       "    }\n",
       "\n",
       "    .dataframe thead th {\n",
       "        text-align: right;\n",
       "    }\n",
       "</style>\n",
       "<table border=\"1\" class=\"dataframe\">\n",
       "  <thead>\n",
       "    <tr style=\"text-align: right;\">\n",
       "      <th></th>\n",
       "      <th>school_id</th>\n",
       "      <th>institution_name</th>\n",
       "      <th>address</th>\n",
       "      <th>city</th>\n",
       "      <th>state_abbr</th>\n",
       "      <th>zipcode</th>\n",
       "      <th>perc_admit_total</th>\n",
       "      <th>perc_admit_men</th>\n",
       "      <th>perc_admit_women</th>\n",
       "      <th>admit_yield_total</th>\n",
       "      <th>...</th>\n",
       "      <th>sat_verb_25</th>\n",
       "      <th>sat_verb_75</th>\n",
       "      <th>sat_math_25</th>\n",
       "      <th>sat_math_75</th>\n",
       "      <th>act_comp_25</th>\n",
       "      <th>act_comp_75</th>\n",
       "      <th>act_eng_25</th>\n",
       "      <th>act_eng_75</th>\n",
       "      <th>act_math_25</th>\n",
       "      <th>act_math_75</th>\n",
       "    </tr>\n",
       "  </thead>\n",
       "  <tbody>\n",
       "    <tr>\n",
       "      <td>0</td>\n",
       "      <td>101587</td>\n",
       "      <td>University of West Alabama</td>\n",
       "      <td>Station One</td>\n",
       "      <td>Livingston</td>\n",
       "      <td>AL</td>\n",
       "      <td>35470</td>\n",
       "      <td>28</td>\n",
       "      <td>30.0</td>\n",
       "      <td>27.0</td>\n",
       "      <td>22.0</td>\n",
       "      <td>...</td>\n",
       "      <td>440.0</td>\n",
       "      <td>520.0</td>\n",
       "      <td>420.0</td>\n",
       "      <td>500.0</td>\n",
       "      <td>18.0</td>\n",
       "      <td>23.0</td>\n",
       "      <td>17.0</td>\n",
       "      <td>24.0</td>\n",
       "      <td>16.0</td>\n",
       "      <td>22.0</td>\n",
       "    </tr>\n",
       "    <tr>\n",
       "      <td>1</td>\n",
       "      <td>110404</td>\n",
       "      <td>California Institute of Technology</td>\n",
       "      <td>1200 E California Blvd</td>\n",
       "      <td>Pasadena</td>\n",
       "      <td>CA</td>\n",
       "      <td>91125</td>\n",
       "      <td>8</td>\n",
       "      <td>5.0</td>\n",
       "      <td>16.0</td>\n",
       "      <td>41.0</td>\n",
       "      <td>...</td>\n",
       "      <td>750.0</td>\n",
       "      <td>790.0</td>\n",
       "      <td>780.0</td>\n",
       "      <td>800.0</td>\n",
       "      <td>34.0</td>\n",
       "      <td>35.0</td>\n",
       "      <td>34.0</td>\n",
       "      <td>36.0</td>\n",
       "      <td>35.0</td>\n",
       "      <td>36.0</td>\n",
       "    </tr>\n",
       "    <tr>\n",
       "      <td>2</td>\n",
       "      <td>110583</td>\n",
       "      <td>California State University-Long Beach</td>\n",
       "      <td>1250 Bellflower Blvd</td>\n",
       "      <td>Long Beach</td>\n",
       "      <td>CA</td>\n",
       "      <td>90840-0115</td>\n",
       "      <td>28</td>\n",
       "      <td>27.0</td>\n",
       "      <td>29.0</td>\n",
       "      <td>23.0</td>\n",
       "      <td>...</td>\n",
       "      <td>510.0</td>\n",
       "      <td>610.0</td>\n",
       "      <td>510.0</td>\n",
       "      <td>620.0</td>\n",
       "      <td>20.0</td>\n",
       "      <td>26.0</td>\n",
       "      <td>19.0</td>\n",
       "      <td>26.0</td>\n",
       "      <td>19.0</td>\n",
       "      <td>27.0</td>\n",
       "    </tr>\n",
       "  </tbody>\n",
       "</table>\n",
       "<p>3 rows × 30 columns</p>\n",
       "</div>"
      ],
      "text/plain": [
       "   school_id                        institution_name                 address  \\\n",
       "0     101587              University of West Alabama             Station One   \n",
       "1     110404      California Institute of Technology  1200 E California Blvd   \n",
       "2     110583  California State University-Long Beach    1250 Bellflower Blvd   \n",
       "\n",
       "         city state_abbr     zipcode  perc_admit_total  perc_admit_men  \\\n",
       "0  Livingston         AL       35470                28            30.0   \n",
       "1    Pasadena         CA       91125                 8             5.0   \n",
       "2  Long Beach         CA  90840-0115                28            27.0   \n",
       "\n",
       "   perc_admit_women  admit_yield_total  ...  sat_verb_25  sat_verb_75  \\\n",
       "0              27.0               22.0  ...        440.0        520.0   \n",
       "1              16.0               41.0  ...        750.0        790.0   \n",
       "2              29.0               23.0  ...        510.0        610.0   \n",
       "\n",
       "   sat_math_25  sat_math_75  act_comp_25  act_comp_75  act_eng_25  act_eng_75  \\\n",
       "0        420.0        500.0         18.0         23.0        17.0        24.0   \n",
       "1        780.0        800.0         34.0         35.0        34.0        36.0   \n",
       "2        510.0        620.0         20.0         26.0        19.0        26.0   \n",
       "\n",
       "   act_math_25  act_math_75  \n",
       "0         16.0         22.0  \n",
       "1         35.0         36.0  \n",
       "2         19.0         27.0  \n",
       "\n",
       "[3 rows x 30 columns]"
      ]
     },
     "execution_count": 36,
     "metadata": {},
     "output_type": "execute_result"
    }
   ],
   "source": [
    "hi_selective_schools.head(3)"
   ]
  },
  {
   "cell_type": "code",
   "execution_count": 37,
   "metadata": {
    "scrolled": true
   },
   "outputs": [],
   "source": [
    "# hi_selective_schools.isna().sum()"
   ]
  },
  {
   "cell_type": "markdown",
   "metadata": {},
   "source": [
    "## Now filter for the test score criteria"
   ]
  },
  {
   "cell_type": "code",
   "execution_count": 38,
   "metadata": {
    "scrolled": true
   },
   "outputs": [],
   "source": [
    "hi_schools_with_scores = hi_selective_schools.loc[(hi_selective_schools['act_comp_25'] >= 29.0)|(hi_selective_schools['sat_comp_25'] >= 1340.0)]"
   ]
  },
  {
   "cell_type": "code",
   "execution_count": 39,
   "metadata": {
    "scrolled": true
   },
   "outputs": [
    {
     "data": {
      "text/plain": [
       "(61, 30)"
      ]
     },
     "execution_count": 39,
     "metadata": {},
     "output_type": "execute_result"
    }
   ],
   "source": [
    "hi_schools_with_scores.shape"
   ]
  },
  {
   "cell_type": "code",
   "execution_count": 40,
   "metadata": {
    "scrolled": true
   },
   "outputs": [
    {
     "data": {
      "text/html": [
       "<div>\n",
       "<style scoped>\n",
       "    .dataframe tbody tr th:only-of-type {\n",
       "        vertical-align: middle;\n",
       "    }\n",
       "\n",
       "    .dataframe tbody tr th {\n",
       "        vertical-align: top;\n",
       "    }\n",
       "\n",
       "    .dataframe thead th {\n",
       "        text-align: right;\n",
       "    }\n",
       "</style>\n",
       "<table border=\"1\" class=\"dataframe\">\n",
       "  <thead>\n",
       "    <tr style=\"text-align: right;\">\n",
       "      <th></th>\n",
       "      <th>school_id</th>\n",
       "      <th>institution_name</th>\n",
       "      <th>address</th>\n",
       "      <th>city</th>\n",
       "      <th>state_abbr</th>\n",
       "      <th>zipcode</th>\n",
       "      <th>perc_admit_total</th>\n",
       "      <th>perc_admit_men</th>\n",
       "      <th>perc_admit_women</th>\n",
       "      <th>admit_yield_total</th>\n",
       "      <th>...</th>\n",
       "      <th>sat_verb_25</th>\n",
       "      <th>sat_verb_75</th>\n",
       "      <th>sat_math_25</th>\n",
       "      <th>sat_math_75</th>\n",
       "      <th>act_comp_25</th>\n",
       "      <th>act_comp_75</th>\n",
       "      <th>act_eng_25</th>\n",
       "      <th>act_eng_75</th>\n",
       "      <th>act_math_25</th>\n",
       "      <th>act_math_75</th>\n",
       "    </tr>\n",
       "  </thead>\n",
       "  <tbody>\n",
       "    <tr>\n",
       "      <td>1</td>\n",
       "      <td>110404</td>\n",
       "      <td>California Institute of Technology</td>\n",
       "      <td>1200 E California Blvd</td>\n",
       "      <td>Pasadena</td>\n",
       "      <td>CA</td>\n",
       "      <td>91125</td>\n",
       "      <td>8</td>\n",
       "      <td>5.0</td>\n",
       "      <td>16.0</td>\n",
       "      <td>41.0</td>\n",
       "      <td>...</td>\n",
       "      <td>750.0</td>\n",
       "      <td>790.0</td>\n",
       "      <td>780.0</td>\n",
       "      <td>800.0</td>\n",
       "      <td>34.0</td>\n",
       "      <td>35.0</td>\n",
       "      <td>34.0</td>\n",
       "      <td>36.0</td>\n",
       "      <td>35.0</td>\n",
       "      <td>36.0</td>\n",
       "    </tr>\n",
       "    <tr>\n",
       "      <td>3</td>\n",
       "      <td>110635</td>\n",
       "      <td>University of California-Berkeley</td>\n",
       "      <td>200 California Hall</td>\n",
       "      <td>Berkeley</td>\n",
       "      <td>CA</td>\n",
       "      <td>94720</td>\n",
       "      <td>17</td>\n",
       "      <td>15.0</td>\n",
       "      <td>19.0</td>\n",
       "      <td>44.0</td>\n",
       "      <td>...</td>\n",
       "      <td>630.0</td>\n",
       "      <td>720.0</td>\n",
       "      <td>630.0</td>\n",
       "      <td>760.0</td>\n",
       "      <td>30.0</td>\n",
       "      <td>34.0</td>\n",
       "      <td>29.0</td>\n",
       "      <td>35.0</td>\n",
       "      <td>28.0</td>\n",
       "      <td>35.0</td>\n",
       "    </tr>\n",
       "    <tr>\n",
       "      <td>4</td>\n",
       "      <td>110662</td>\n",
       "      <td>University of California-Los Angeles</td>\n",
       "      <td>405 Hilgard Ave</td>\n",
       "      <td>Los Angeles</td>\n",
       "      <td>CA</td>\n",
       "      <td>90095-1405</td>\n",
       "      <td>16</td>\n",
       "      <td>15.0</td>\n",
       "      <td>17.0</td>\n",
       "      <td>37.0</td>\n",
       "      <td>...</td>\n",
       "      <td>620.0</td>\n",
       "      <td>710.0</td>\n",
       "      <td>600.0</td>\n",
       "      <td>740.0</td>\n",
       "      <td>29.0</td>\n",
       "      <td>34.0</td>\n",
       "      <td>28.0</td>\n",
       "      <td>35.0</td>\n",
       "      <td>27.0</td>\n",
       "      <td>34.0</td>\n",
       "    </tr>\n",
       "  </tbody>\n",
       "</table>\n",
       "<p>3 rows × 30 columns</p>\n",
       "</div>"
      ],
      "text/plain": [
       "   school_id                      institution_name                 address  \\\n",
       "1     110404    California Institute of Technology  1200 E California Blvd   \n",
       "3     110635     University of California-Berkeley     200 California Hall   \n",
       "4     110662  University of California-Los Angeles         405 Hilgard Ave   \n",
       "\n",
       "          city state_abbr     zipcode  perc_admit_total  perc_admit_men  \\\n",
       "1     Pasadena         CA       91125                 8             5.0   \n",
       "3     Berkeley         CA       94720                17            15.0   \n",
       "4  Los Angeles         CA  90095-1405                16            15.0   \n",
       "\n",
       "   perc_admit_women  admit_yield_total  ...  sat_verb_25  sat_verb_75  \\\n",
       "1              16.0               41.0  ...        750.0        790.0   \n",
       "3              19.0               44.0  ...        630.0        720.0   \n",
       "4              17.0               37.0  ...        620.0        710.0   \n",
       "\n",
       "   sat_math_25  sat_math_75  act_comp_25  act_comp_75  act_eng_25  act_eng_75  \\\n",
       "1        780.0        800.0         34.0         35.0        34.0        36.0   \n",
       "3        630.0        760.0         30.0         34.0        29.0        35.0   \n",
       "4        600.0        740.0         29.0         34.0        28.0        35.0   \n",
       "\n",
       "   act_math_25  act_math_75  \n",
       "1         35.0         36.0  \n",
       "3         28.0         35.0  \n",
       "4         27.0         34.0  \n",
       "\n",
       "[3 rows x 30 columns]"
      ]
     },
     "execution_count": 40,
     "metadata": {},
     "output_type": "execute_result"
    }
   ],
   "source": [
    "hi_schools_with_scores.head(3)"
   ]
  },
  {
   "cell_type": "code",
   "execution_count": 41,
   "metadata": {
    "scrolled": true
   },
   "outputs": [
    {
     "data": {
      "text/html": [
       "<div>\n",
       "<style scoped>\n",
       "    .dataframe tbody tr th:only-of-type {\n",
       "        vertical-align: middle;\n",
       "    }\n",
       "\n",
       "    .dataframe tbody tr th {\n",
       "        vertical-align: top;\n",
       "    }\n",
       "\n",
       "    .dataframe thead th {\n",
       "        text-align: right;\n",
       "    }\n",
       "</style>\n",
       "<table border=\"1\" class=\"dataframe\">\n",
       "  <thead>\n",
       "    <tr style=\"text-align: right;\">\n",
       "      <th></th>\n",
       "      <th>school_id</th>\n",
       "      <th>institution_name</th>\n",
       "      <th>address</th>\n",
       "      <th>city</th>\n",
       "      <th>state_abbr</th>\n",
       "      <th>zipcode</th>\n",
       "      <th>perc_admit_total</th>\n",
       "      <th>perc_admit_men</th>\n",
       "      <th>perc_admit_women</th>\n",
       "      <th>admit_yield_total</th>\n",
       "      <th>...</th>\n",
       "      <th>sat_verb_25</th>\n",
       "      <th>sat_verb_75</th>\n",
       "      <th>sat_math_25</th>\n",
       "      <th>sat_math_75</th>\n",
       "      <th>act_comp_25</th>\n",
       "      <th>act_comp_75</th>\n",
       "      <th>act_eng_25</th>\n",
       "      <th>act_eng_75</th>\n",
       "      <th>act_math_25</th>\n",
       "      <th>act_math_75</th>\n",
       "    </tr>\n",
       "  </thead>\n",
       "  <tbody>\n",
       "    <tr>\n",
       "      <td>0</td>\n",
       "      <td>110404</td>\n",
       "      <td>California Institute of Technology</td>\n",
       "      <td>1200 E California Blvd</td>\n",
       "      <td>Pasadena</td>\n",
       "      <td>CA</td>\n",
       "      <td>91125</td>\n",
       "      <td>8</td>\n",
       "      <td>5.0</td>\n",
       "      <td>16.0</td>\n",
       "      <td>41.0</td>\n",
       "      <td>...</td>\n",
       "      <td>750.0</td>\n",
       "      <td>790.0</td>\n",
       "      <td>780.0</td>\n",
       "      <td>800.0</td>\n",
       "      <td>34.0</td>\n",
       "      <td>35.0</td>\n",
       "      <td>34.0</td>\n",
       "      <td>36.0</td>\n",
       "      <td>35.0</td>\n",
       "      <td>36.0</td>\n",
       "    </tr>\n",
       "    <tr>\n",
       "      <td>1</td>\n",
       "      <td>110635</td>\n",
       "      <td>University of California-Berkeley</td>\n",
       "      <td>200 California Hall</td>\n",
       "      <td>Berkeley</td>\n",
       "      <td>CA</td>\n",
       "      <td>94720</td>\n",
       "      <td>17</td>\n",
       "      <td>15.0</td>\n",
       "      <td>19.0</td>\n",
       "      <td>44.0</td>\n",
       "      <td>...</td>\n",
       "      <td>630.0</td>\n",
       "      <td>720.0</td>\n",
       "      <td>630.0</td>\n",
       "      <td>760.0</td>\n",
       "      <td>30.0</td>\n",
       "      <td>34.0</td>\n",
       "      <td>29.0</td>\n",
       "      <td>35.0</td>\n",
       "      <td>28.0</td>\n",
       "      <td>35.0</td>\n",
       "    </tr>\n",
       "    <tr>\n",
       "      <td>2</td>\n",
       "      <td>110662</td>\n",
       "      <td>University of California-Los Angeles</td>\n",
       "      <td>405 Hilgard Ave</td>\n",
       "      <td>Los Angeles</td>\n",
       "      <td>CA</td>\n",
       "      <td>90095-1405</td>\n",
       "      <td>16</td>\n",
       "      <td>15.0</td>\n",
       "      <td>17.0</td>\n",
       "      <td>37.0</td>\n",
       "      <td>...</td>\n",
       "      <td>620.0</td>\n",
       "      <td>710.0</td>\n",
       "      <td>600.0</td>\n",
       "      <td>740.0</td>\n",
       "      <td>29.0</td>\n",
       "      <td>34.0</td>\n",
       "      <td>28.0</td>\n",
       "      <td>35.0</td>\n",
       "      <td>27.0</td>\n",
       "      <td>34.0</td>\n",
       "    </tr>\n",
       "    <tr>\n",
       "      <td>3</td>\n",
       "      <td>112260</td>\n",
       "      <td>Claremont McKenna College</td>\n",
       "      <td>500 E 9th St</td>\n",
       "      <td>Claremont</td>\n",
       "      <td>CA</td>\n",
       "      <td>91711-6400</td>\n",
       "      <td>10</td>\n",
       "      <td>11.0</td>\n",
       "      <td>10.0</td>\n",
       "      <td>53.0</td>\n",
       "      <td>...</td>\n",
       "      <td>660.0</td>\n",
       "      <td>740.0</td>\n",
       "      <td>680.0</td>\n",
       "      <td>770.0</td>\n",
       "      <td>30.0</td>\n",
       "      <td>34.0</td>\n",
       "      <td>30.0</td>\n",
       "      <td>35.0</td>\n",
       "      <td>28.0</td>\n",
       "      <td>34.0</td>\n",
       "    </tr>\n",
       "    <tr>\n",
       "      <td>4</td>\n",
       "      <td>115409</td>\n",
       "      <td>Harvey Mudd College</td>\n",
       "      <td>301 Platt Blvd.</td>\n",
       "      <td>Claremont</td>\n",
       "      <td>CA</td>\n",
       "      <td>91711</td>\n",
       "      <td>15</td>\n",
       "      <td>10.0</td>\n",
       "      <td>28.0</td>\n",
       "      <td>36.0</td>\n",
       "      <td>...</td>\n",
       "      <td>720.0</td>\n",
       "      <td>770.0</td>\n",
       "      <td>750.0</td>\n",
       "      <td>800.0</td>\n",
       "      <td>33.0</td>\n",
       "      <td>35.0</td>\n",
       "      <td>33.0</td>\n",
       "      <td>35.0</td>\n",
       "      <td>33.0</td>\n",
       "      <td>35.0</td>\n",
       "    </tr>\n",
       "    <tr>\n",
       "      <td>...</td>\n",
       "      <td>...</td>\n",
       "      <td>...</td>\n",
       "      <td>...</td>\n",
       "      <td>...</td>\n",
       "      <td>...</td>\n",
       "      <td>...</td>\n",
       "      <td>...</td>\n",
       "      <td>...</td>\n",
       "      <td>...</td>\n",
       "      <td>...</td>\n",
       "      <td>...</td>\n",
       "      <td>...</td>\n",
       "      <td>...</td>\n",
       "      <td>...</td>\n",
       "      <td>...</td>\n",
       "      <td>...</td>\n",
       "      <td>...</td>\n",
       "      <td>...</td>\n",
       "      <td>...</td>\n",
       "      <td>...</td>\n",
       "      <td>...</td>\n",
       "    </tr>\n",
       "    <tr>\n",
       "      <td>56</td>\n",
       "      <td>234076</td>\n",
       "      <td>University of Virginia-Main Campus</td>\n",
       "      <td>1827 University Avenue</td>\n",
       "      <td>Charlottesville</td>\n",
       "      <td>VA</td>\n",
       "      <td>22903-2628</td>\n",
       "      <td>27</td>\n",
       "      <td>26.0</td>\n",
       "      <td>28.0</td>\n",
       "      <td>38.0</td>\n",
       "      <td>...</td>\n",
       "      <td>660.0</td>\n",
       "      <td>740.0</td>\n",
       "      <td>650.0</td>\n",
       "      <td>760.0</td>\n",
       "      <td>29.0</td>\n",
       "      <td>33.0</td>\n",
       "      <td>30.0</td>\n",
       "      <td>35.0</td>\n",
       "      <td>28.0</td>\n",
       "      <td>33.0</td>\n",
       "    </tr>\n",
       "    <tr>\n",
       "      <td>57</td>\n",
       "      <td>234207</td>\n",
       "      <td>Washington and Lee University</td>\n",
       "      <td>204 West Washington Street</td>\n",
       "      <td>Lexington</td>\n",
       "      <td>VA</td>\n",
       "      <td>24450-2116</td>\n",
       "      <td>22</td>\n",
       "      <td>22.0</td>\n",
       "      <td>22.0</td>\n",
       "      <td>39.0</td>\n",
       "      <td>...</td>\n",
       "      <td>680.0</td>\n",
       "      <td>740.0</td>\n",
       "      <td>670.0</td>\n",
       "      <td>750.0</td>\n",
       "      <td>31.0</td>\n",
       "      <td>33.0</td>\n",
       "      <td>31.0</td>\n",
       "      <td>35.0</td>\n",
       "      <td>28.0</td>\n",
       "      <td>33.0</td>\n",
       "    </tr>\n",
       "    <tr>\n",
       "      <td>58</td>\n",
       "      <td>243744</td>\n",
       "      <td>Stanford University</td>\n",
       "      <td>unknown</td>\n",
       "      <td>Stanford</td>\n",
       "      <td>CA</td>\n",
       "      <td>94305</td>\n",
       "      <td>5</td>\n",
       "      <td>4.0</td>\n",
       "      <td>5.0</td>\n",
       "      <td>82.0</td>\n",
       "      <td>...</td>\n",
       "      <td>690.0</td>\n",
       "      <td>760.0</td>\n",
       "      <td>700.0</td>\n",
       "      <td>780.0</td>\n",
       "      <td>32.0</td>\n",
       "      <td>35.0</td>\n",
       "      <td>33.0</td>\n",
       "      <td>36.0</td>\n",
       "      <td>30.0</td>\n",
       "      <td>35.0</td>\n",
       "    </tr>\n",
       "    <tr>\n",
       "      <td>59</td>\n",
       "      <td>441982</td>\n",
       "      <td>Franklin W Olin College of Engineering</td>\n",
       "      <td>1000 Olin Way</td>\n",
       "      <td>Needham</td>\n",
       "      <td>MA</td>\n",
       "      <td>02492-1200</td>\n",
       "      <td>13</td>\n",
       "      <td>8.0</td>\n",
       "      <td>28.0</td>\n",
       "      <td>63.0</td>\n",
       "      <td>...</td>\n",
       "      <td>710.0</td>\n",
       "      <td>770.0</td>\n",
       "      <td>740.0</td>\n",
       "      <td>800.0</td>\n",
       "      <td>33.0</td>\n",
       "      <td>35.0</td>\n",
       "      <td>33.0</td>\n",
       "      <td>35.0</td>\n",
       "      <td>31.0</td>\n",
       "      <td>35.0</td>\n",
       "    </tr>\n",
       "    <tr>\n",
       "      <td>60</td>\n",
       "      <td>487092</td>\n",
       "      <td>Emory University-Oxford College</td>\n",
       "      <td>801 Emory Street</td>\n",
       "      <td>Oxford</td>\n",
       "      <td>GA</td>\n",
       "      <td>30054</td>\n",
       "      <td>29</td>\n",
       "      <td>29.0</td>\n",
       "      <td>29.0</td>\n",
       "      <td>12.0</td>\n",
       "      <td>...</td>\n",
       "      <td>660.0</td>\n",
       "      <td>730.0</td>\n",
       "      <td>670.0</td>\n",
       "      <td>790.0</td>\n",
       "      <td>29.0</td>\n",
       "      <td>32.0</td>\n",
       "      <td>NaN</td>\n",
       "      <td>NaN</td>\n",
       "      <td>NaN</td>\n",
       "      <td>NaN</td>\n",
       "    </tr>\n",
       "  </tbody>\n",
       "</table>\n",
       "<p>61 rows × 30 columns</p>\n",
       "</div>"
      ],
      "text/plain": [
       "    school_id                        institution_name  \\\n",
       "0      110404      California Institute of Technology   \n",
       "1      110635       University of California-Berkeley   \n",
       "2      110662    University of California-Los Angeles   \n",
       "3      112260               Claremont McKenna College   \n",
       "4      115409                     Harvey Mudd College   \n",
       "..        ...                                     ...   \n",
       "56     234076      University of Virginia-Main Campus   \n",
       "57     234207           Washington and Lee University   \n",
       "58     243744                     Stanford University   \n",
       "59     441982  Franklin W Olin College of Engineering   \n",
       "60     487092         Emory University-Oxford College   \n",
       "\n",
       "                       address             city state_abbr     zipcode  \\\n",
       "0       1200 E California Blvd         Pasadena         CA       91125   \n",
       "1          200 California Hall         Berkeley         CA       94720   \n",
       "2              405 Hilgard Ave      Los Angeles         CA  90095-1405   \n",
       "3                 500 E 9th St        Claremont         CA  91711-6400   \n",
       "4              301 Platt Blvd.        Claremont         CA       91711   \n",
       "..                         ...              ...        ...         ...   \n",
       "56      1827 University Avenue  Charlottesville         VA  22903-2628   \n",
       "57  204 West Washington Street        Lexington         VA  24450-2116   \n",
       "58                     unknown         Stanford         CA       94305   \n",
       "59               1000 Olin Way          Needham         MA  02492-1200   \n",
       "60            801 Emory Street           Oxford         GA       30054   \n",
       "\n",
       "    perc_admit_total  perc_admit_men  perc_admit_women  admit_yield_total  \\\n",
       "0                  8             5.0              16.0               41.0   \n",
       "1                 17            15.0              19.0               44.0   \n",
       "2                 16            15.0              17.0               37.0   \n",
       "3                 10            11.0              10.0               53.0   \n",
       "4                 15            10.0              28.0               36.0   \n",
       "..               ...             ...               ...                ...   \n",
       "56                27            26.0              28.0               38.0   \n",
       "57                22            22.0              22.0               39.0   \n",
       "58                 5             4.0               5.0               82.0   \n",
       "59                13             8.0              28.0               63.0   \n",
       "60                29            29.0              29.0               12.0   \n",
       "\n",
       "    ...  sat_verb_25  sat_verb_75  sat_math_25  sat_math_75  act_comp_25  \\\n",
       "0   ...        750.0        790.0        780.0        800.0         34.0   \n",
       "1   ...        630.0        720.0        630.0        760.0         30.0   \n",
       "2   ...        620.0        710.0        600.0        740.0         29.0   \n",
       "3   ...        660.0        740.0        680.0        770.0         30.0   \n",
       "4   ...        720.0        770.0        750.0        800.0         33.0   \n",
       "..  ...          ...          ...          ...          ...          ...   \n",
       "56  ...        660.0        740.0        650.0        760.0         29.0   \n",
       "57  ...        680.0        740.0        670.0        750.0         31.0   \n",
       "58  ...        690.0        760.0        700.0        780.0         32.0   \n",
       "59  ...        710.0        770.0        740.0        800.0         33.0   \n",
       "60  ...        660.0        730.0        670.0        790.0         29.0   \n",
       "\n",
       "    act_comp_75  act_eng_25  act_eng_75  act_math_25  act_math_75  \n",
       "0          35.0        34.0        36.0         35.0         36.0  \n",
       "1          34.0        29.0        35.0         28.0         35.0  \n",
       "2          34.0        28.0        35.0         27.0         34.0  \n",
       "3          34.0        30.0        35.0         28.0         34.0  \n",
       "4          35.0        33.0        35.0         33.0         35.0  \n",
       "..          ...         ...         ...          ...          ...  \n",
       "56         33.0        30.0        35.0         28.0         33.0  \n",
       "57         33.0        31.0        35.0         28.0         33.0  \n",
       "58         35.0        33.0        36.0         30.0         35.0  \n",
       "59         35.0        33.0        35.0         31.0         35.0  \n",
       "60         32.0         NaN         NaN          NaN          NaN  \n",
       "\n",
       "[61 rows x 30 columns]"
      ]
     },
     "execution_count": 41,
     "metadata": {},
     "output_type": "execute_result"
    }
   ],
   "source": [
    "hi_schools_with_scores.reset_index(drop=True)"
   ]
  },
  {
   "cell_type": "code",
   "execution_count": 42,
   "metadata": {
    "scrolled": true
   },
   "outputs": [
    {
     "data": {
      "text/html": [
       "<div>\n",
       "<style scoped>\n",
       "    .dataframe tbody tr th:only-of-type {\n",
       "        vertical-align: middle;\n",
       "    }\n",
       "\n",
       "    .dataframe tbody tr th {\n",
       "        vertical-align: top;\n",
       "    }\n",
       "\n",
       "    .dataframe thead th {\n",
       "        text-align: right;\n",
       "    }\n",
       "</style>\n",
       "<table border=\"1\" class=\"dataframe\">\n",
       "  <thead>\n",
       "    <tr style=\"text-align: right;\">\n",
       "      <th></th>\n",
       "      <th>school_id</th>\n",
       "      <th>institution_name</th>\n",
       "      <th>address</th>\n",
       "      <th>city</th>\n",
       "      <th>state_abbr</th>\n",
       "      <th>zipcode</th>\n",
       "      <th>perc_admit_total</th>\n",
       "      <th>perc_admit_men</th>\n",
       "      <th>perc_admit_women</th>\n",
       "      <th>admit_yield_total</th>\n",
       "      <th>...</th>\n",
       "      <th>sat_verb_25</th>\n",
       "      <th>sat_verb_75</th>\n",
       "      <th>sat_math_25</th>\n",
       "      <th>sat_math_75</th>\n",
       "      <th>act_comp_25</th>\n",
       "      <th>act_comp_75</th>\n",
       "      <th>act_eng_25</th>\n",
       "      <th>act_eng_75</th>\n",
       "      <th>act_math_25</th>\n",
       "      <th>act_math_75</th>\n",
       "    </tr>\n",
       "  </thead>\n",
       "  <tbody>\n",
       "    <tr>\n",
       "      <td>51</td>\n",
       "      <td>166027</td>\n",
       "      <td>Harvard University</td>\n",
       "      <td>Massachusetts Hall</td>\n",
       "      <td>Cambridge</td>\n",
       "      <td>MA</td>\n",
       "      <td>2138</td>\n",
       "      <td>5</td>\n",
       "      <td>5.0</td>\n",
       "      <td>5.0</td>\n",
       "      <td>83.0</td>\n",
       "      <td>...</td>\n",
       "      <td>730.0</td>\n",
       "      <td>790.0</td>\n",
       "      <td>730.0</td>\n",
       "      <td>800.0</td>\n",
       "      <td>32.0</td>\n",
       "      <td>35.0</td>\n",
       "      <td>34.0</td>\n",
       "      <td>36.0</td>\n",
       "      <td>31.0</td>\n",
       "      <td>35.0</td>\n",
       "    </tr>\n",
       "    <tr>\n",
       "      <td>128</td>\n",
       "      <td>243744</td>\n",
       "      <td>Stanford University</td>\n",
       "      <td>unknown</td>\n",
       "      <td>Stanford</td>\n",
       "      <td>CA</td>\n",
       "      <td>94305</td>\n",
       "      <td>5</td>\n",
       "      <td>4.0</td>\n",
       "      <td>5.0</td>\n",
       "      <td>82.0</td>\n",
       "      <td>...</td>\n",
       "      <td>690.0</td>\n",
       "      <td>760.0</td>\n",
       "      <td>700.0</td>\n",
       "      <td>780.0</td>\n",
       "      <td>32.0</td>\n",
       "      <td>35.0</td>\n",
       "      <td>33.0</td>\n",
       "      <td>36.0</td>\n",
       "      <td>30.0</td>\n",
       "      <td>35.0</td>\n",
       "    </tr>\n",
       "    <tr>\n",
       "      <td>73</td>\n",
       "      <td>190150</td>\n",
       "      <td>Columbia University in the City of New York</td>\n",
       "      <td>West 116 St and Broadway</td>\n",
       "      <td>New York</td>\n",
       "      <td>NY</td>\n",
       "      <td>10027</td>\n",
       "      <td>6</td>\n",
       "      <td>7.0</td>\n",
       "      <td>6.0</td>\n",
       "      <td>61.0</td>\n",
       "      <td>...</td>\n",
       "      <td>710.0</td>\n",
       "      <td>780.0</td>\n",
       "      <td>730.0</td>\n",
       "      <td>800.0</td>\n",
       "      <td>33.0</td>\n",
       "      <td>35.0</td>\n",
       "      <td>33.0</td>\n",
       "      <td>35.0</td>\n",
       "      <td>30.0</td>\n",
       "      <td>35.0</td>\n",
       "    </tr>\n",
       "    <tr>\n",
       "      <td>67</td>\n",
       "      <td>186131</td>\n",
       "      <td>Princeton University</td>\n",
       "      <td>1 Nassau Hall</td>\n",
       "      <td>Princeton</td>\n",
       "      <td>NJ</td>\n",
       "      <td>08544-0070</td>\n",
       "      <td>6</td>\n",
       "      <td>6.0</td>\n",
       "      <td>7.0</td>\n",
       "      <td>66.0</td>\n",
       "      <td>...</td>\n",
       "      <td>710.0</td>\n",
       "      <td>780.0</td>\n",
       "      <td>720.0</td>\n",
       "      <td>790.0</td>\n",
       "      <td>31.0</td>\n",
       "      <td>35.0</td>\n",
       "      <td>33.0</td>\n",
       "      <td>35.0</td>\n",
       "      <td>30.0</td>\n",
       "      <td>35.0</td>\n",
       "    </tr>\n",
       "    <tr>\n",
       "      <td>52</td>\n",
       "      <td>166683</td>\n",
       "      <td>Massachusetts Institute of Technology</td>\n",
       "      <td>77 Massachusetts Avenue</td>\n",
       "      <td>Cambridge</td>\n",
       "      <td>MA</td>\n",
       "      <td>02139-4307</td>\n",
       "      <td>7</td>\n",
       "      <td>5.0</td>\n",
       "      <td>11.0</td>\n",
       "      <td>76.0</td>\n",
       "      <td>...</td>\n",
       "      <td>720.0</td>\n",
       "      <td>770.0</td>\n",
       "      <td>770.0</td>\n",
       "      <td>800.0</td>\n",
       "      <td>33.0</td>\n",
       "      <td>35.0</td>\n",
       "      <td>34.0</td>\n",
       "      <td>36.0</td>\n",
       "      <td>34.0</td>\n",
       "      <td>36.0</td>\n",
       "    </tr>\n",
       "    <tr>\n",
       "      <td>...</td>\n",
       "      <td>...</td>\n",
       "      <td>...</td>\n",
       "      <td>...</td>\n",
       "      <td>...</td>\n",
       "      <td>...</td>\n",
       "      <td>...</td>\n",
       "      <td>...</td>\n",
       "      <td>...</td>\n",
       "      <td>...</td>\n",
       "      <td>...</td>\n",
       "      <td>...</td>\n",
       "      <td>...</td>\n",
       "      <td>...</td>\n",
       "      <td>...</td>\n",
       "      <td>...</td>\n",
       "      <td>...</td>\n",
       "      <td>...</td>\n",
       "      <td>...</td>\n",
       "      <td>...</td>\n",
       "      <td>...</td>\n",
       "      <td>...</td>\n",
       "    </tr>\n",
       "    <tr>\n",
       "      <td>122</td>\n",
       "      <td>233374</td>\n",
       "      <td>University of Richmond</td>\n",
       "      <td>28 Westhampton Way</td>\n",
       "      <td>University of Richmond</td>\n",
       "      <td>VA</td>\n",
       "      <td>23173</td>\n",
       "      <td>33</td>\n",
       "      <td>35.0</td>\n",
       "      <td>32.0</td>\n",
       "      <td>24.0</td>\n",
       "      <td>...</td>\n",
       "      <td>630.0</td>\n",
       "      <td>710.0</td>\n",
       "      <td>640.0</td>\n",
       "      <td>750.0</td>\n",
       "      <td>29.0</td>\n",
       "      <td>32.0</td>\n",
       "      <td>NaN</td>\n",
       "      <td>NaN</td>\n",
       "      <td>NaN</td>\n",
       "      <td>NaN</td>\n",
       "    </tr>\n",
       "    <tr>\n",
       "      <td>14</td>\n",
       "      <td>123165</td>\n",
       "      <td>Scripps College</td>\n",
       "      <td>1030 North Columbia Avenue</td>\n",
       "      <td>Claremont</td>\n",
       "      <td>CA</td>\n",
       "      <td>91711-3905</td>\n",
       "      <td>33</td>\n",
       "      <td>NaN</td>\n",
       "      <td>33.0</td>\n",
       "      <td>34.0</td>\n",
       "      <td>...</td>\n",
       "      <td>660.0</td>\n",
       "      <td>730.0</td>\n",
       "      <td>630.0</td>\n",
       "      <td>730.0</td>\n",
       "      <td>29.0</td>\n",
       "      <td>33.0</td>\n",
       "      <td>31.0</td>\n",
       "      <td>35.0</td>\n",
       "      <td>27.0</td>\n",
       "      <td>32.0</td>\n",
       "    </tr>\n",
       "    <tr>\n",
       "      <td>50</td>\n",
       "      <td>165015</td>\n",
       "      <td>Brandeis University</td>\n",
       "      <td>415 South St</td>\n",
       "      <td>Waltham</td>\n",
       "      <td>MA</td>\n",
       "      <td>02454-9110</td>\n",
       "      <td>34</td>\n",
       "      <td>31.0</td>\n",
       "      <td>36.0</td>\n",
       "      <td>21.0</td>\n",
       "      <td>...</td>\n",
       "      <td>630.0</td>\n",
       "      <td>710.0</td>\n",
       "      <td>650.0</td>\n",
       "      <td>760.0</td>\n",
       "      <td>29.0</td>\n",
       "      <td>33.0</td>\n",
       "      <td>29.0</td>\n",
       "      <td>34.0</td>\n",
       "      <td>28.0</td>\n",
       "      <td>34.0</td>\n",
       "    </tr>\n",
       "    <tr>\n",
       "      <td>96</td>\n",
       "      <td>203535</td>\n",
       "      <td>Kenyon College</td>\n",
       "      <td>Kenyon College</td>\n",
       "      <td>Gambier</td>\n",
       "      <td>OH</td>\n",
       "      <td>43022</td>\n",
       "      <td>34</td>\n",
       "      <td>32.0</td>\n",
       "      <td>35.0</td>\n",
       "      <td>24.0</td>\n",
       "      <td>...</td>\n",
       "      <td>640.0</td>\n",
       "      <td>730.0</td>\n",
       "      <td>623.0</td>\n",
       "      <td>730.0</td>\n",
       "      <td>29.0</td>\n",
       "      <td>33.0</td>\n",
       "      <td>29.0</td>\n",
       "      <td>35.0</td>\n",
       "      <td>26.0</td>\n",
       "      <td>31.0</td>\n",
       "    </tr>\n",
       "    <tr>\n",
       "      <td>84</td>\n",
       "      <td>195030</td>\n",
       "      <td>University of Rochester</td>\n",
       "      <td>Wilson Blvd. - Wallis Hall</td>\n",
       "      <td>Rochester</td>\n",
       "      <td>NY</td>\n",
       "      <td>14627-0011</td>\n",
       "      <td>34</td>\n",
       "      <td>33.0</td>\n",
       "      <td>35.0</td>\n",
       "      <td>24.0</td>\n",
       "      <td>...</td>\n",
       "      <td>640.0</td>\n",
       "      <td>720.0</td>\n",
       "      <td>660.0</td>\n",
       "      <td>770.0</td>\n",
       "      <td>29.0</td>\n",
       "      <td>33.0</td>\n",
       "      <td>28.0</td>\n",
       "      <td>34.0</td>\n",
       "      <td>28.0</td>\n",
       "      <td>34.0</td>\n",
       "    </tr>\n",
       "  </tbody>\n",
       "</table>\n",
       "<p>61 rows × 30 columns</p>\n",
       "</div>"
      ],
      "text/plain": [
       "     school_id                             institution_name  \\\n",
       "51      166027                           Harvard University   \n",
       "128     243744                          Stanford University   \n",
       "73      190150  Columbia University in the City of New York   \n",
       "67      186131                         Princeton University   \n",
       "52      166683        Massachusetts Institute of Technology   \n",
       "..         ...                                          ...   \n",
       "122     233374                       University of Richmond   \n",
       "14      123165                              Scripps College   \n",
       "50      165015                          Brandeis University   \n",
       "96      203535                               Kenyon College   \n",
       "84      195030                      University of Rochester   \n",
       "\n",
       "                        address                    city state_abbr  \\\n",
       "51           Massachusetts Hall               Cambridge         MA   \n",
       "128                     unknown                Stanford         CA   \n",
       "73     West 116 St and Broadway                New York         NY   \n",
       "67                1 Nassau Hall               Princeton         NJ   \n",
       "52      77 Massachusetts Avenue               Cambridge         MA   \n",
       "..                          ...                     ...        ...   \n",
       "122          28 Westhampton Way  University of Richmond         VA   \n",
       "14   1030 North Columbia Avenue               Claremont         CA   \n",
       "50                 415 South St                 Waltham         MA   \n",
       "96               Kenyon College                 Gambier         OH   \n",
       "84   Wilson Blvd. - Wallis Hall               Rochester         NY   \n",
       "\n",
       "        zipcode  perc_admit_total  perc_admit_men  perc_admit_women  \\\n",
       "51         2138                 5             5.0               5.0   \n",
       "128       94305                 5             4.0               5.0   \n",
       "73        10027                 6             7.0               6.0   \n",
       "67   08544-0070                 6             6.0               7.0   \n",
       "52   02139-4307                 7             5.0              11.0   \n",
       "..          ...               ...             ...               ...   \n",
       "122       23173                33            35.0              32.0   \n",
       "14   91711-3905                33             NaN              33.0   \n",
       "50   02454-9110                34            31.0              36.0   \n",
       "96        43022                34            32.0              35.0   \n",
       "84   14627-0011                34            33.0              35.0   \n",
       "\n",
       "     admit_yield_total  ...  sat_verb_25  sat_verb_75  sat_math_25  \\\n",
       "51                83.0  ...        730.0        790.0        730.0   \n",
       "128               82.0  ...        690.0        760.0        700.0   \n",
       "73                61.0  ...        710.0        780.0        730.0   \n",
       "67                66.0  ...        710.0        780.0        720.0   \n",
       "52                76.0  ...        720.0        770.0        770.0   \n",
       "..                 ...  ...          ...          ...          ...   \n",
       "122               24.0  ...        630.0        710.0        640.0   \n",
       "14                34.0  ...        660.0        730.0        630.0   \n",
       "50                21.0  ...        630.0        710.0        650.0   \n",
       "96                24.0  ...        640.0        730.0        623.0   \n",
       "84                24.0  ...        640.0        720.0        660.0   \n",
       "\n",
       "     sat_math_75  act_comp_25  act_comp_75  act_eng_25  act_eng_75  \\\n",
       "51         800.0         32.0         35.0        34.0        36.0   \n",
       "128        780.0         32.0         35.0        33.0        36.0   \n",
       "73         800.0         33.0         35.0        33.0        35.0   \n",
       "67         790.0         31.0         35.0        33.0        35.0   \n",
       "52         800.0         33.0         35.0        34.0        36.0   \n",
       "..           ...          ...          ...         ...         ...   \n",
       "122        750.0         29.0         32.0         NaN         NaN   \n",
       "14         730.0         29.0         33.0        31.0        35.0   \n",
       "50         760.0         29.0         33.0        29.0        34.0   \n",
       "96         730.0         29.0         33.0        29.0        35.0   \n",
       "84         770.0         29.0         33.0        28.0        34.0   \n",
       "\n",
       "     act_math_25  act_math_75  \n",
       "51          31.0         35.0  \n",
       "128         30.0         35.0  \n",
       "73          30.0         35.0  \n",
       "67          30.0         35.0  \n",
       "52          34.0         36.0  \n",
       "..           ...          ...  \n",
       "122          NaN          NaN  \n",
       "14          27.0         32.0  \n",
       "50          28.0         34.0  \n",
       "96          26.0         31.0  \n",
       "84          28.0         34.0  \n",
       "\n",
       "[61 rows x 30 columns]"
      ]
     },
     "execution_count": 42,
     "metadata": {},
     "output_type": "execute_result"
    }
   ],
   "source": [
    "hi_schools_with_scores.sort_values(by = ['perc_admit_total'])"
   ]
  },
  {
   "cell_type": "code",
   "execution_count": 43,
   "metadata": {
    "scrolled": true
   },
   "outputs": [
    {
     "data": {
      "text/plain": [
       "30.80327868852459"
      ]
     },
     "execution_count": 43,
     "metadata": {},
     "output_type": "execute_result"
    }
   ],
   "source": [
    "## Average act_comp_25\n",
    "hi_schools_with_scores['act_comp_25'].mean()"
   ]
  },
  {
   "cell_type": "code",
   "execution_count": 44,
   "metadata": {
    "scrolled": true
   },
   "outputs": [
    {
     "data": {
      "text/plain": [
       "33.85245901639344"
      ]
     },
     "execution_count": 44,
     "metadata": {},
     "output_type": "execute_result"
    }
   ],
   "source": [
    "## Average act_comp_75\n",
    "hi_schools_with_scores['act_comp_75'].mean()"
   ]
  },
  {
   "cell_type": "code",
   "execution_count": 45,
   "metadata": {
    "scrolled": true
   },
   "outputs": [
    {
     "data": {
      "text/plain": [
       "1364.0655737704917"
      ]
     },
     "execution_count": 45,
     "metadata": {},
     "output_type": "execute_result"
    }
   ],
   "source": [
    "## Average sat_comp_25\n",
    "hi_schools_with_scores['sat_comp_25'].mean()"
   ]
  },
  {
   "cell_type": "code",
   "execution_count": 46,
   "metadata": {
    "scrolled": true
   },
   "outputs": [
    {
     "data": {
      "text/plain": [
       "1525.4098360655737"
      ]
     },
     "execution_count": 46,
     "metadata": {},
     "output_type": "execute_result"
    }
   ],
   "source": [
    "## Average sat_comp_75\n",
    "hi_schools_with_scores['sat_comp_75'].mean()"
   ]
  },
  {
   "cell_type": "markdown",
   "metadata": {
    "scrolled": true
   },
   "source": [
    "## Export subsets as csv files"
   ]
  },
  {
   "cell_type": "code",
   "execution_count": 47,
   "metadata": {
    "scrolled": true
   },
   "outputs": [],
   "source": [
    "# export hi_schools_with_scores as csv\n",
    "##hi_schools_with_scores.to_csv('highly_selective.csv')"
   ]
  },
  {
   "cell_type": "code",
   "execution_count": 48,
   "metadata": {},
   "outputs": [],
   "source": [
    "#basic_school_info.to_csv('basic_school_info.csv')"
   ]
  },
  {
   "cell_type": "markdown",
   "metadata": {},
   "source": [
    "## Use .map to create a new column using \"control\" for public, private non-profit, etc. "
   ]
  },
  {
   "cell_type": "code",
   "execution_count": 49,
   "metadata": {},
   "outputs": [],
   "source": [
    "# create a dictionary from \"Control\" responses\n",
    "control_dict = {1:'Public',\n",
    "               2:'Private Non-Profit',\n",
    "               3:'Private For Profit',\n",
    "               -3:'N/A'}\n",
    "# make new column and fill\n",
    "directory['school_type']= directory['control'].map(control_dict)"
   ]
  },
  {
   "cell_type": "markdown",
   "metadata": {},
   "source": [
    "## Create new columns with US geographical regions, locales, and school size:"
   ]
  },
  {
   "cell_type": "code",
   "execution_count": 50,
   "metadata": {},
   "outputs": [],
   "source": [
    "# create dictionary from \"bea_region\" responses\n",
    "regions_dict = {1:'New England',\n",
    "               2:'Mid East',\n",
    "               3:'Great Lakes',\n",
    "               4:'Plains',\n",
    "               5:'Southeast',\n",
    "               6:'Southwest',\n",
    "               7:'Rocky Mountains',\n",
    "               8:'Far West',\n",
    "               9:'Outlying Areas',\n",
    "               -3:'N/A'}\n",
    "# make new column and fill\n",
    "directory['geo_region']= directory['bea_region'].map(regions_dict)"
   ]
  },
  {
   "cell_type": "code",
   "execution_count": 51,
   "metadata": {},
   "outputs": [],
   "source": [
    "# create dictionary for 'locale' responses\n",
    "locale_dict = {11:'City, Large', 12:'City, Midsize', 13:'City, Small',\n",
    "              21:'Suburb, Large', 22:'Suburb, Midsize', 23:'Suburb, Small',\n",
    "              31: 'Town, Fringe', 32:'Town, Distant', 33:'Town, Remote',\n",
    "              41:'Rural, Fringe', 42:'Rural, Distant', 43:'Rural, Remote'}\n",
    "# make new column and fill\n",
    "directory['locale_type'] = directory['locale'].map(locale_dict)"
   ]
  },
  {
   "cell_type": "code",
   "execution_count": 52,
   "metadata": {},
   "outputs": [],
   "source": [
    "# create a dictionary from \"inst_size\" responses\n",
    "size_dict = {1:'<1000',\n",
    "            2:'1000-4999',\n",
    "            3:'5000-9999',\n",
    "            4:'10,000-19,999',\n",
    "            5:'20,000+',\n",
    "            -1:'Not Reported',\n",
    "            -2:'N/A'}\n",
    "directory['school_size']= directory['inst_size'].map(size_dict)"
   ]
  },
  {
   "cell_type": "code",
   "execution_count": 53,
   "metadata": {},
   "outputs": [],
   "source": [
    "## drop the old columns and several I don't need\n",
    "directory = directory.drop(columns=['control', 'bea_region', 'locale', 'inst_size', 'ope_title_iv', \n",
    "                        'csa', 'necta', 'employer_id', 'ope_id'])"
   ]
  },
  {
   "cell_type": "code",
   "execution_count": 54,
   "metadata": {},
   "outputs": [
    {
     "data": {
      "text/plain": [
       "(7153, 57)"
      ]
     },
     "execution_count": 54,
     "metadata": {},
     "output_type": "execute_result"
    }
   ],
   "source": [
    "directory.shape"
   ]
  },
  {
   "cell_type": "markdown",
   "metadata": {},
   "source": [
    "## Filter main directory df to exclude \"Outlying Areas\":\n",
    "- Deletes American Samoa, Guam, Marianas, Marshall Is., Micronesia, Palau, Puerto Rico, & Virgin Islands "
   ]
  },
  {
   "cell_type": "code",
   "execution_count": 55,
   "metadata": {},
   "outputs": [],
   "source": [
    "directory_filtered = directory[directory['geo_region'] != 'Outlying Areas'] "
   ]
  },
  {
   "cell_type": "code",
   "execution_count": 56,
   "metadata": {},
   "outputs": [
    {
     "data": {
      "text/plain": [
       "(6993, 57)"
      ]
     },
     "execution_count": 56,
     "metadata": {},
     "output_type": "execute_result"
    }
   ],
   "source": [
    "directory_filtered.shape"
   ]
  },
  {
   "cell_type": "markdown",
   "metadata": {},
   "source": [
    "## Remove 'Private for Profit' Schools"
   ]
  },
  {
   "cell_type": "code",
   "execution_count": 57,
   "metadata": {},
   "outputs": [],
   "source": [
    "directory_filtered = directory_filtered[directory_filtered['school_type'] != 'Private for Profit'] "
   ]
  },
  {
   "cell_type": "code",
   "execution_count": 58,
   "metadata": {},
   "outputs": [
    {
     "data": {
      "text/plain": [
       "(6993, 57)"
      ]
     },
     "execution_count": 58,
     "metadata": {},
     "output_type": "execute_result"
    }
   ],
   "source": [
    "directory_filtered.shape"
   ]
  },
  {
   "cell_type": "code",
   "execution_count": 59,
   "metadata": {},
   "outputs": [],
   "source": [
    "# export as csv\n",
    "#directory_filtered.to_csv('directory_filtered.csv')"
   ]
  },
  {
   "cell_type": "code",
   "execution_count": 60,
   "metadata": {},
   "outputs": [
    {
     "data": {
      "text/html": [
       "<div>\n",
       "<style scoped>\n",
       "    .dataframe tbody tr th:only-of-type {\n",
       "        vertical-align: middle;\n",
       "    }\n",
       "\n",
       "    .dataframe tbody tr th {\n",
       "        vertical-align: top;\n",
       "    }\n",
       "\n",
       "    .dataframe thead th {\n",
       "        text-align: right;\n",
       "    }\n",
       "</style>\n",
       "<table border=\"1\" class=\"dataframe\">\n",
       "  <thead>\n",
       "    <tr style=\"text-align: right;\">\n",
       "      <th></th>\n",
       "      <th>school_id</th>\n",
       "      <th>institution_name</th>\n",
       "      <th>address</th>\n",
       "      <th>city</th>\n",
       "      <th>state_abbr</th>\n",
       "      <th>zipcode</th>\n",
       "      <th>fips_code</th>\n",
       "      <th>app_url</th>\n",
       "      <th>net_price_url</th>\n",
       "      <th>ath_url</th>\n",
       "      <th>...</th>\n",
       "      <th>county_name</th>\n",
       "      <th>congress_dist</th>\n",
       "      <th>longitude</th>\n",
       "      <th>latitude</th>\n",
       "      <th>data_fdbk_group</th>\n",
       "      <th>data_fdbk_custom</th>\n",
       "      <th>school_type</th>\n",
       "      <th>geo_region</th>\n",
       "      <th>locale_type</th>\n",
       "      <th>school_size</th>\n",
       "    </tr>\n",
       "  </thead>\n",
       "  <tbody>\n",
       "    <tr>\n",
       "      <td>0</td>\n",
       "      <td>100654</td>\n",
       "      <td>Alabama A &amp; M University</td>\n",
       "      <td>4900 Meridian Street</td>\n",
       "      <td>Normal</td>\n",
       "      <td>AL</td>\n",
       "      <td>35762</td>\n",
       "      <td>1</td>\n",
       "      <td>https://ssb.aamu.edu/PROD/bwskalog.P_DispLoginNon</td>\n",
       "      <td>www2.aamu.edu/scripts/netpricecalc/npcalc.htm</td>\n",
       "      <td>www.aamu.edu/administrativeoffices/irpsp/insti...</td>\n",
       "      <td>...</td>\n",
       "      <td>Madison County</td>\n",
       "      <td>105</td>\n",
       "      <td>-86.568502</td>\n",
       "      <td>34.783368</td>\n",
       "      <td>122</td>\n",
       "      <td>1</td>\n",
       "      <td>Public</td>\n",
       "      <td>Southeast</td>\n",
       "      <td>City, Midsize</td>\n",
       "      <td>5000-9999</td>\n",
       "    </tr>\n",
       "    <tr>\n",
       "      <td>1</td>\n",
       "      <td>100663</td>\n",
       "      <td>University of Alabama at Birmingham</td>\n",
       "      <td>Administration Bldg Suite 1070</td>\n",
       "      <td>Birmingham</td>\n",
       "      <td>AL</td>\n",
       "      <td>35294-0110</td>\n",
       "      <td>1</td>\n",
       "      <td>https://idm.uab.edu/myuab/login?from=ugadmapp</td>\n",
       "      <td>uab.studentaidcalculator.com/survey.aspx</td>\n",
       "      <td>www.uab.edu/registrar/students</td>\n",
       "      <td>...</td>\n",
       "      <td>Jefferson County</td>\n",
       "      <td>107</td>\n",
       "      <td>-86.799345</td>\n",
       "      <td>33.505697</td>\n",
       "      <td>109</td>\n",
       "      <td>1</td>\n",
       "      <td>Public</td>\n",
       "      <td>Southeast</td>\n",
       "      <td>City, Midsize</td>\n",
       "      <td>20,000+</td>\n",
       "    </tr>\n",
       "    <tr>\n",
       "      <td>2</td>\n",
       "      <td>100690</td>\n",
       "      <td>Amridge University</td>\n",
       "      <td>1200 Taylor Rd</td>\n",
       "      <td>Montgomery</td>\n",
       "      <td>AL</td>\n",
       "      <td>36117-3553</td>\n",
       "      <td>1</td>\n",
       "      <td>https://www2.amridgeuniversity.edu/Amridge/Log...</td>\n",
       "      <td>www2.amridgeuniversity.edu:9091/</td>\n",
       "      <td>NaN</td>\n",
       "      <td>...</td>\n",
       "      <td>Montgomery County</td>\n",
       "      <td>102</td>\n",
       "      <td>-86.174010</td>\n",
       "      <td>32.362609</td>\n",
       "      <td>141</td>\n",
       "      <td>2</td>\n",
       "      <td>Private Non-Profit</td>\n",
       "      <td>Southeast</td>\n",
       "      <td>City, Midsize</td>\n",
       "      <td>&lt;1000</td>\n",
       "    </tr>\n",
       "  </tbody>\n",
       "</table>\n",
       "<p>3 rows × 57 columns</p>\n",
       "</div>"
      ],
      "text/plain": [
       "   school_id                     institution_name  \\\n",
       "0     100654             Alabama A & M University   \n",
       "1     100663  University of Alabama at Birmingham   \n",
       "2     100690                   Amridge University   \n",
       "\n",
       "                          address        city state_abbr     zipcode  \\\n",
       "0            4900 Meridian Street      Normal         AL       35762   \n",
       "1  Administration Bldg Suite 1070  Birmingham         AL  35294-0110   \n",
       "2                  1200 Taylor Rd  Montgomery         AL  36117-3553   \n",
       "\n",
       "   fips_code                                            app_url  \\\n",
       "0          1  https://ssb.aamu.edu/PROD/bwskalog.P_DispLoginNon   \n",
       "1          1      https://idm.uab.edu/myuab/login?from=ugadmapp   \n",
       "2          1  https://www2.amridgeuniversity.edu/Amridge/Log...   \n",
       "\n",
       "                                   net_price_url  \\\n",
       "0  www2.aamu.edu/scripts/netpricecalc/npcalc.htm   \n",
       "1       uab.studentaidcalculator.com/survey.aspx   \n",
       "2               www2.amridgeuniversity.edu:9091/   \n",
       "\n",
       "                                             ath_url  ...        county_name  \\\n",
       "0  www.aamu.edu/administrativeoffices/irpsp/insti...  ...     Madison County   \n",
       "1                     www.uab.edu/registrar/students  ...   Jefferson County   \n",
       "2                                                NaN  ...  Montgomery County   \n",
       "\n",
       "   congress_dist  longitude   latitude  data_fdbk_group  data_fdbk_custom  \\\n",
       "0            105 -86.568502  34.783368              122                 1   \n",
       "1            107 -86.799345  33.505697              109                 1   \n",
       "2            102 -86.174010  32.362609              141                 2   \n",
       "\n",
       "          school_type  geo_region    locale_type  school_size  \n",
       "0              Public   Southeast  City, Midsize    5000-9999  \n",
       "1              Public   Southeast  City, Midsize      20,000+  \n",
       "2  Private Non-Profit   Southeast  City, Midsize        <1000  \n",
       "\n",
       "[3 rows x 57 columns]"
      ]
     },
     "execution_count": 60,
     "metadata": {},
     "output_type": "execute_result"
    }
   ],
   "source": [
    "directory_filtered.head(3)"
   ]
  },
  {
   "cell_type": "markdown",
   "metadata": {},
   "source": [
    "## Subset for Private Schools"
   ]
  },
  {
   "cell_type": "code",
   "execution_count": 61,
   "metadata": {},
   "outputs": [],
   "source": [
    "#private_schools = directory_filtered[directory_filtered['school_type']=='Private Non-Profit']"
   ]
  },
  {
   "cell_type": "code",
   "execution_count": 62,
   "metadata": {},
   "outputs": [],
   "source": [
    "#private_schools.shape"
   ]
  },
  {
   "cell_type": "code",
   "execution_count": 63,
   "metadata": {},
   "outputs": [],
   "source": [
    "# export as csv\n",
    "#private_schools.to_csv('ipeds_private_schools.csv')"
   ]
  },
  {
   "cell_type": "code",
   "execution_count": null,
   "metadata": {},
   "outputs": [],
   "source": []
  }
 ],
 "metadata": {
  "kernelspec": {
   "display_name": "Python 3",
   "language": "python",
   "name": "python3"
  },
  "language_info": {
   "codemirror_mode": {
    "name": "ipython",
    "version": 3
   },
   "file_extension": ".py",
   "mimetype": "text/x-python",
   "name": "python",
   "nbconvert_exporter": "python",
   "pygments_lexer": "ipython3",
   "version": "3.7.4"
  }
 },
 "nbformat": 4,
 "nbformat_minor": 2
}
